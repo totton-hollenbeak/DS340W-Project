{
 "cells": [
  {
   "cell_type": "code",
   "execution_count": null,
   "metadata": {},
   "outputs": [],
   "source": [
    "from sklearn.model_selection import train_test_split\n",
    "from sklearn.preprocessing import OneHotEncoder\n",
    "import pandas as pd\n",
    "import torch\n",
    "import torch.nn as nn\n",
    "import torchbnn as bnn"
   ]
  },
  {
   "cell_type": "code",
   "execution_count": null,
   "metadata": {},
   "outputs": [],
   "source": [
    "# Load Data\n",
    "colectomy_cci_var = pd.read_csv('./colectomy_cci_var.csv', dtype = 'str')\n",
    "\n",
    "# Select Relevant Features\n",
    "features = ['year', 'ptsex', 'race', 'age', 'adtype', 'adsource', 'admdx', 'sdx1', 'sdx2']\n",
    "\n",
    "#colectomy_cci_var['ptsex'] = colectomy_cci_var['ptsex'].replace({'F': 'female', 'M': 'male'})\n",
    "#colectomy_cci_var['adtype'] = colectomy_cci_var['adtype'].replace({1: 'emergency', 2: 'urgent', 3: 'elective'})\n",
    "#colectomy_cci_var['adsource'] = colectomy_cci_var['adsource'].replace({'F': 'female', 'M': 'male'})\n",
    "\n",
    "colectomy_cci_var_X = colectomy_cci_var[features]\n",
    "colectomy_cci_var_y = colectomy_cci_var['pdx']\n",
    "\n",
    "for feature in features:\n",
    "    print(colectomy_cci_var_X[feature].value_counts())\n",
    "\n",
    "colectomy_cci_var_X_encoded = pd.get_dummies(colectomy_cci_var_X, columns = ['ptsex', 'race', 'adtype', 'adsource', 'admdx', 'sdx1', 'sdx2'])\n",
    "\n",
    "# Split Data\n",
    "train_X, test_X, train_y, test_y = train_test_split(colectomy_cci_var_X_encoded, colectomy_cci_var_y, test_size = 0.2, random_state = 0)\n",
    "\n",
    "# Normalize Data\n",
    "train_X"
   ]
  },
  {
   "cell_type": "code",
   "execution_count": null,
   "metadata": {},
   "outputs": [],
   "source": [
    "k = 1\n",
    "print(len(colectomy_cci_var))\n",
    "colectomy_cci_var_filtered_1 = colectomy_cci_var.groupby('admdx').filter(lambda x: len(x) >= k)\n",
    "print(len(colectomy_cci_var_filtered_1))\n",
    "colectomy_cci_var_filtered_2 = colectomy_cci_var_filtered_1.groupby('sdx1').filter(lambda x: len(x) >= k)\n",
    "print(len(colectomy_cci_var_filtered_2))\n",
    "colectomy_cci_var_filtered_3 = colectomy_cci_var_filtered_2.groupby('sdx2').filter(lambda x: len(x) >= k)\n",
    "print(len(colectomy_cci_var_filtered_3))"
   ]
  },
  {
   "cell_type": "code",
   "execution_count": null,
   "metadata": {},
   "outputs": [],
   "source": [
    "# Model Architecture\n",
    "class BayesianNeuralNetwork(nn.Module):\n",
    "    def __init__(self, feature_size, num_classes):\n",
    "        super().__init__()\n",
    "\n",
    "        layer_1_size = 100\n",
    "        layer_2_size = 50\n",
    "\n",
    "        # Layers\n",
    "        self.bayes_linear_1 = bnn.BayesLinear(prior_mu = 0, prior_sigma = 1, in_features = feature_size, out_features = layer_1_size)\n",
    "        self.bayes_linear_2 = bnn.BayesLinear(prior_mu = 0, prior_sigma = 1, in_features = layer_1_size, out_features = layer_2_size)\n",
    "        self.output_layer = nn.Linear(in_features = layer_2_size, out_features = num_classes)\n",
    "    \n",
    "    def forward(self, x):\n",
    "        x = torch.relu(self.bayes_linear_1(x))\n",
    "        x = torch.relu(self.bayes_linear_2(x))\n",
    "        return self.output_layer(x)"
   ]
  },
  {
   "cell_type": "code",
   "execution_count": null,
   "metadata": {},
   "outputs": [],
   "source": [
    "# Loss Function\n",
    "def elbo_loss(output, target, model):\n",
    "    standard_loss = nn.CrossEntropyLoss(output, target)\n",
    "    kl_loss = bnn.BKLLoss(reduction = 'mean', last_layer_only = False)\n",
    "\n",
    "    return standard_loss + kl_loss(model)"
   ]
  }
 ],
 "metadata": {
  "kernelspec": {
   "display_name": "DS340W",
   "language": "python",
   "name": "python3"
  },
  "language_info": {
   "name": "python",
   "version": "3.10.15"
  }
 },
 "nbformat": 4,
 "nbformat_minor": 2
}
