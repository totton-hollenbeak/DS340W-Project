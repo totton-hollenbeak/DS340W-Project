{
 "cells": [
  {
   "cell_type": "markdown",
   "metadata": {},
   "source": [
    "# Importing Libraries"
   ]
  },
  {
   "cell_type": "code",
   "execution_count": 105,
   "metadata": {},
   "outputs": [],
   "source": [
    "# For Data Processing\n",
    "import pandas as pd\n",
    "import numpy as np\n",
    "import matplotlib.pyplot as plt\n",
    "import seaborn as sns\n",
    "from sklearn.preprocessing import LabelEncoder, MinMaxScaler, StandardScaler, OneHotEncoder\n",
    "from sklearn.model_selection import train_test_split\n",
    "import plotly.express as px\n",
    "from imblearn.over_sampling import SMOTE, RandomOverSampler\n",
    "import torch\n",
    "import torch.nn as nn\n",
    "import torchbnn as bnn\n",
    "import torch.optim as optim\n",
    "from torch.optim.lr_scheduler import StepLR\n",
    "from torch.utils.data import TensorDataset, DataLoader\n",
    "from icd9cms import search\n",
    "\n",
    "# Import ML Model Classifier\n",
    "from sklearn.ensemble import RandomForestClassifier\n",
    "from sklearn import svm\n",
    "from sklearn.naive_bayes import GaussianNB\n",
    "from sklearn.linear_model import LogisticRegression\n",
    "from sklearn.neighbors import KNeighborsClassifier\n",
    "from xgboost import XGBClassifier\n",
    "from sklearn.tree import DecisionTreeClassifier\n",
    "from sklearn.ensemble import AdaBoostClassifier\n",
    "\n",
    "# For Model Evaluation\n",
    "from sklearn.metrics import accuracy_score, precision_score, recall_score, f1_score, classification_report\n",
    "from sklearn.metrics import mean_absolute_error\n",
    "from sklearn.metrics import mean_squared_error\n",
    "from sklearn.metrics import confusion_matrix\n",
    "from sklearn.metrics import confusion_matrix, ConfusionMatrixDisplay\n",
    "from sklearn.metrics import roc_curve, auc \n",
    "from matplotlib import pyplot"
   ]
  },
  {
   "cell_type": "markdown",
   "metadata": {},
   "source": [
    "# Importing data"
   ]
  },
  {
   "cell_type": "code",
   "execution_count": 106,
   "metadata": {},
   "outputs": [],
   "source": [
    "colectomy_cci_var = pd.read_csv('./colectomy_cci_var.csv', dtype = 'str')"
   ]
  },
  {
   "cell_type": "markdown",
   "metadata": {},
   "source": [
    "# Formating datatype"
   ]
  },
  {
   "cell_type": "code",
   "execution_count": null,
   "metadata": {},
   "outputs": [],
   "source": [
    "# Set random seed\n",
    "np.random.seed(42)\n",
    "\n",
    "# Obtain ICD9 codes for the parent code\n",
    "def get_parent_code(code):\n",
    "    if search(code) is None:\n",
    "        return 'uknown'\n",
    "    else:\n",
    "        return search(code).parent.code\n",
    "\n",
    "# Rename columns\n",
    "colectomy_cci_var['ptsex'] = colectomy_cci_var['ptsex'].replace({'F': 'female', 'M': 'male'})\n",
    "colectomy_cci_var['adtype'] = colectomy_cci_var['adtype'].replace({'1': 'emergency', '2': 'urgent', '3': 'elective'})\n",
    "colectomy_cci_var['adsource'] = colectomy_cci_var['adsource'].replace({'1': 'non_healthcare_facility', '2': 'clinical_referral', '4': 'hospital_transfer', '5': 'snf_icf_transfer', '6': 'healthcare_facility_tranfer', '7': 'emergency_room', '8': 'court_law_enforcement', 'D': 'hospital_unit_transfer', 'E': 'ambulatory_surgery_center'})\n",
    "\n",
    "# Reformat the 'age' variable typing\n",
    "colectomy_cci_var['age'] = colectomy_cci_var['age'].astype(int)\n",
    "\n",
    "# Drop observations\n",
    "colectomy_cci_var = colectomy_cci_var[colectomy_cci_var['adsource'] != '9']\n",
    "colectomy_cci_var = colectomy_cci_var[colectomy_cci_var['adsource'] != 'emergency_room']\n",
    "colectomy_cci_var = colectomy_cci_var[colectomy_cci_var['adsource'] != 'court_law_enforcement']\n",
    "colectomy_cci_var = colectomy_cci_var[colectomy_cci_var['adsource'] != 'hospital_unit_transfer']\n",
    "\n",
    "# Cluster 'pdx' codes by the ICD9 parent code\n",
    "colectomy_cci_var['pdx'] = colectomy_cci_var['pdx'].apply(get_parent_code)\n",
    "\n",
    "# Remove classes with fewer observations\n",
    "colectomy_cci_var = colectomy_cci_var.groupby('pdx').filter(lambda x: len(x) >= 1000)\n",
    "\n",
    "# Select Relevant Features\n",
    "features = ['year', 'ptsex', 'race', 'adtype', 'adsource', 'admdx']\n",
    "dummy_features = ['year', 'ptsex', 'race', 'adtype', 'adsource']\n",
    "frequency_features = ['admdx']\n",
    "\n",
    "# Data Preprocessing\n",
    "num_secondary_admissions = 3\n",
    "\n",
    "for i in range(1, num_secondary_admissions + 1):\n",
    "    sdx = f'sdx{i}'\n",
    "\n",
    "    features.append(sdx)\n",
    "    frequency_features.append(sdx)\n",
    "    colectomy_cci_var[sdx] = colectomy_cci_var[sdx].fillna('unknown')\n",
    "\n",
    "# Split the features and label\n",
    "colectomy_cci_var_X = colectomy_cci_var[features]\n",
    "colectomy_cci_var_y = colectomy_cci_var['pdx']\n",
    "\n",
    "# One-Hot Encoding\n",
    "colectomy_cci_var_X = pd.get_dummies(colectomy_cci_var_X, columns = features, dtype = 'int')\n",
    "\n",
    "# Split Data\n",
    "#train_X, test_X, train_y, test_y = train_test_split(colectomy_cci_var_X, colectomy_cci_var_y, test_size = 0.2, random_state = 0)\n",
    "train_X, temp_X, train_y, temp_y = train_test_split(colectomy_cci_var_X, colectomy_cci_var_y, test_size = 0.3, random_state = 0)\n",
    "val_X, test_X, val_y, test_y = train_test_split(temp_X, temp_y, test_size = 0.5, random_state = 0)\n",
    "\n",
    "# Data Resampling\n",
    "smote = SMOTE(sampling_strategy = 'auto', random_state = 0)\n",
    "train_X, train_y = smote.fit_resample(train_X, train_y)\n",
    "\n",
    "# Label Encoding\n",
    "encoder = LabelEncoder()\n",
    "label_encoder = encoder.fit(train_y)\n",
    "train_y = label_encoder.transform(train_y)\n",
    "val_y = label_encoder.transform(val_y)\n",
    "test_y = label_encoder.transform(test_y)\n",
    "\n",
    "X_train = train_X\n",
    "X_val = val_X\n",
    "X_test = test_X\n",
    "Y_train = train_y\n",
    "Y_val = val_y\n",
    "Y_test = test_y"
   ]
  },
  {
   "cell_type": "code",
   "execution_count": null,
   "metadata": {},
   "outputs": [],
   "source": [
    "# Extracting categorical and numerical columns\n",
    "cat_cols = [col for col in colectomy_cci_var[features].columns if colectomy_cci_var[col].dtype == 'object']\n",
    "num_cols = [col for col in colectomy_cci_var[features].columns if colectomy_cci_var[col].dtype != 'object']"
   ]
  },
  {
   "cell_type": "code",
   "execution_count": null,
   "metadata": {},
   "outputs": [
    {
     "name": "stdout",
     "output_type": "stream",
     "text": [
      "2024-12-02 17:57:34,449: Using categorical units to plot a list of strings that are all parsable as floats or dates. If these strings should be plotted as numbers, cast to the appropriate data type before plotting.\n",
      "2024-12-02 17:57:34,460: Using categorical units to plot a list of strings that are all parsable as floats or dates. If these strings should be plotted as numbers, cast to the appropriate data type before plotting.\n"
     ]
    },
    {
     "name": "stderr",
     "output_type": "stream",
     "text": [
      "/var/folders/cm/xf8t3rxj687fb5y5xqpyndrr0000gn/T/ipykernel_23518/1215541339.py:8: FutureWarning:\n",
      "\n",
      "\n",
      "\n",
      "Passing `palette` without assigning `hue` is deprecated and will be removed in v0.14.0. Assign the `x` variable to `hue` and set `legend=False` for the same effect.\n",
      "\n",
      "\n",
      "/var/folders/cm/xf8t3rxj687fb5y5xqpyndrr0000gn/T/ipykernel_23518/1215541339.py:8: FutureWarning:\n",
      "\n",
      "\n",
      "\n",
      "Passing `palette` without assigning `hue` is deprecated and will be removed in v0.14.0. Assign the `x` variable to `hue` and set `legend=False` for the same effect.\n",
      "\n",
      "\n",
      "/var/folders/cm/xf8t3rxj687fb5y5xqpyndrr0000gn/T/ipykernel_23518/1215541339.py:8: FutureWarning:\n",
      "\n",
      "\n",
      "\n",
      "Passing `palette` without assigning `hue` is deprecated and will be removed in v0.14.0. Assign the `x` variable to `hue` and set `legend=False` for the same effect.\n",
      "\n",
      "\n",
      "/var/folders/cm/xf8t3rxj687fb5y5xqpyndrr0000gn/T/ipykernel_23518/1215541339.py:8: FutureWarning:\n",
      "\n",
      "\n",
      "\n",
      "Passing `palette` without assigning `hue` is deprecated and will be removed in v0.14.0. Assign the `x` variable to `hue` and set `legend=False` for the same effect.\n",
      "\n",
      "\n",
      "/var/folders/cm/xf8t3rxj687fb5y5xqpyndrr0000gn/T/ipykernel_23518/1215541339.py:8: FutureWarning:\n",
      "\n",
      "\n",
      "\n",
      "Passing `palette` without assigning `hue` is deprecated and will be removed in v0.14.0. Assign the `x` variable to `hue` and set `legend=False` for the same effect.\n",
      "\n",
      "\n",
      "/var/folders/cm/xf8t3rxj687fb5y5xqpyndrr0000gn/T/ipykernel_23518/1215541339.py:8: FutureWarning:\n",
      "\n",
      "\n",
      "\n",
      "Passing `palette` without assigning `hue` is deprecated and will be removed in v0.14.0. Assign the `x` variable to `hue` and set `legend=False` for the same effect.\n",
      "\n",
      "\n",
      "/var/folders/cm/xf8t3rxj687fb5y5xqpyndrr0000gn/T/ipykernel_23518/1215541339.py:8: FutureWarning:\n",
      "\n",
      "\n",
      "\n",
      "Passing `palette` without assigning `hue` is deprecated and will be removed in v0.14.0. Assign the `x` variable to `hue` and set `legend=False` for the same effect.\n",
      "\n",
      "\n",
      "/var/folders/cm/xf8t3rxj687fb5y5xqpyndrr0000gn/T/ipykernel_23518/1215541339.py:8: FutureWarning:\n",
      "\n",
      "\n",
      "\n",
      "Passing `palette` without assigning `hue` is deprecated and will be removed in v0.14.0. Assign the `x` variable to `hue` and set `legend=False` for the same effect.\n",
      "\n",
      "\n",
      "/var/folders/cm/xf8t3rxj687fb5y5xqpyndrr0000gn/T/ipykernel_23518/1215541339.py:8: FutureWarning:\n",
      "\n",
      "\n",
      "\n",
      "Passing `palette` without assigning `hue` is deprecated and will be removed in v0.14.0. Assign the `x` variable to `hue` and set `legend=False` for the same effect.\n",
      "\n",
      "\n",
      "/var/folders/cm/xf8t3rxj687fb5y5xqpyndrr0000gn/T/ipykernel_23518/1215541339.py:8: FutureWarning:\n",
      "\n",
      "\n",
      "\n",
      "Passing `palette` without assigning `hue` is deprecated and will be removed in v0.14.0. Assign the `x` variable to `hue` and set `legend=False` for the same effect.\n",
      "\n",
      "\n"
     ]
    },
    {
     "data": {
      "image/png": "[encoded data removed]",
      "text/plain": [
       "<Figure size 2000x1500 with 10 Axes>"
      ]
     },
     "metadata": {},
     "output_type": "display_data"
    }
   ],
   "source": [
    "# looking at categorical columns\n",
    "\n",
    "plt.figure(figsize = (20, 15))\n",
    "plotnumber = 1\n",
    "for column in cat_cols:\n",
    "    if plotnumber <= 11:\n",
    "        ax = plt.subplot(3, 4, plotnumber)\n",
    "        sns.countplot(x = colectomy_cci_var[column], palette = 'deep', color = 'black', legend = False)\n",
    "        plt.xlabel(column)\n",
    "        plt.xticks(rotation = 45)\n",
    "        \n",
    "    plotnumber += 1\n",
    "\n",
    "plt.tight_layout()\n",
    "plt.show()"
   ]
  },
  {
   "cell_type": "code",
   "execution_count": null,
   "metadata": {},
   "outputs": [
    {
     "name": "stdout",
     "output_type": "stream",
     "text": [
      "Length of training set: 10348\n",
      "Length of testing set: 16932\n"
     ]
    }
   ],
   "source": [
    "# Split the training set into patients below the age of 60\n",
    "colectomy_cci_var_public = colectomy_cci_var[colectomy_cci_var['age'] < 60]\n",
    "# Split the testing set into patients above the age of 60\n",
    "colectomy_cci_var_private_other = colectomy_cci_var[colectomy_cci_var['age'] >= 60]\n",
    "\n",
    "print(f\"Length of training set: {len(colectomy_cci_var_public)}\")\n",
    "print(f\"Length of testing set: {len(colectomy_cci_var_private_other)}\")\n",
    "\n",
    "# Split the data into the in-distribution and out-of-distribution scenarios\n",
    "train_X_OOD = colectomy_cci_var_public[features]\n",
    "train_y_OOD = colectomy_cci_var_public['pdx'] \n",
    "test_X_OOD = colectomy_cci_var_private_other[features]\n",
    "test_y_OOD = colectomy_cci_var_private_other['pdx']\n",
    "\n",
    "val_X_OOD, test_X_OOD, val_y_OOD, test_y_OOD = train_test_split(test_X_OOD, test_y_OOD, test_size = 0.5, random_state = 0)\n",
    "\n",
    "# One-Hot Encoding\n",
    "encoder = OneHotEncoder(sparse_output = False, handle_unknown = 'ignore')\n",
    "train_X_OOD_data = encoder.fit_transform(train_X_OOD[features])\n",
    "val_X_OOD_data = encoder.transform(val_X_OOD[features])\n",
    "test_X_OOD_data = encoder.transform(test_X_OOD[features])\n",
    "\n",
    "train_X_OOD = pd.DataFrame(train_X_OOD_data, columns = encoder.get_feature_names_out(features))\n",
    "val_X_OOD = pd.DataFrame(val_X_OOD_data, columns = encoder.get_feature_names_out(features))\n",
    "test_X_OOD = pd.DataFrame(test_X_OOD_data, columns = encoder.get_feature_names_out(features))\n",
    "\n",
    "\n",
    "# Data Resampling\n",
    "smote = SMOTE(sampling_strategy = 'auto', random_state = 0)\n",
    "train_X_OOD, train_y_OOD = smote.fit_resample(train_X_OOD, train_y_OOD)\n",
    "\n",
    "# Label Encoding\n",
    "encoder = LabelEncoder()\n",
    "label_encoder = encoder.fit(train_y_OOD)\n",
    "train_y_OOD = label_encoder.transform(train_y_OOD)\n",
    "val_y_OOD = label_encoder.transform(val_y_OOD)\n",
    "test_y_OOD = label_encoder.transform(test_y_OOD)\n",
    "\n",
    "\n",
    "X_train_OOD = train_X_OOD\n",
    "X_val_OOD = val_X_OOD\n",
    "X_test_OOD = test_X_OOD\n",
    "Y_train_OOD = train_y_OOD\n",
    "Y_val_OOD = val_y_OOD\n",
    "Y_test_OOD = test_y_OOD"
   ]
  },
  {
   "cell_type": "markdown",
   "metadata": {},
   "source": [
    "# Training In-Distribution Models"
   ]
  },
  {
   "cell_type": "code",
   "execution_count": null,
   "metadata": {},
   "outputs": [
    {
     "name": "stderr",
     "output_type": "stream",
     "text": [
      "/opt/anaconda3/envs/DS340W/lib/python3.10/site-packages/xgboost/core.py:158: UserWarning:\n",
      "\n",
      "[18:08:40] WARNING: /Users/runner/work/xgboost/xgboost/src/learner.cc:740: \n",
      "Parameters: { \"use_label_encoder\" } are not used.\n",
      "\n",
      "\n",
      "/opt/anaconda3/envs/DS340W/lib/python3.10/site-packages/sklearn/ensemble/_weight_boosting.py:527: FutureWarning:\n",
      "\n",
      "The SAMME.R algorithm (the default) is deprecated and will be removed in 1.6. Use the SAMME algorithm to circumvent this warning.\n",
      "\n"
     ]
    },
    {
     "data": {
      "text/html": [
       "<style>#sk-container-id-9 {\n",
       "  /* Definition of color scheme common for light and dark mode */\n",
       "  --sklearn-color-text: black;\n",
       "  --sklearn-color-line: gray;\n",
       "  /* Definition of color scheme for unfitted estimators */\n",
       "  --sklearn-color-unfitted-level-0: #fff5e6;\n",
       "  --sklearn-color-unfitted-level-1: #f6e4d2;\n",
       "  --sklearn-color-unfitted-level-2: #ffe0b3;\n",
       "  --sklearn-color-unfitted-level-3: chocolate;\n",
       "  /* Definition of color scheme for fitted estimators */\n",
       "  --sklearn-color-fitted-level-0: #f0f8ff;\n",
       "  --sklearn-color-fitted-level-1: #d4ebff;\n",
       "  --sklearn-color-fitted-level-2: #b3dbfd;\n",
       "  --sklearn-color-fitted-level-3: cornflowerblue;\n",
       "\n",
       "  /* Specific color for light theme */\n",
       "  --sklearn-color-text-on-default-background: var(--sg-text-color, var(--theme-code-foreground, var(--jp-content-font-color1, black)));\n",
       "  --sklearn-color-background: var(--sg-background-color, var(--theme-background, var(--jp-layout-color0, white)));\n",
       "  --sklearn-color-border-box: var(--sg-text-color, var(--theme-code-foreground, var(--jp-content-font-color1, black)));\n",
       "  --sklearn-color-icon: #696969;\n",
       "\n",
       "  @media (prefers-color-scheme: dark) {\n",
       "    /* Redefinition of color scheme for dark theme */\n",
       "    --sklearn-color-text-on-default-background: var(--sg-text-color, var(--theme-code-foreground, var(--jp-content-font-color1, white)));\n",
       "    --sklearn-color-background: var(--sg-background-color, var(--theme-background, var(--jp-layout-color0, #111)));\n",
       "    --sklearn-color-border-box: var(--sg-text-color, var(--theme-code-foreground, var(--jp-content-font-color1, white)));\n",
       "    --sklearn-color-icon: #878787;\n",
       "  }\n",
       "}\n",
       "\n",
       "#sk-container-id-9 {\n",
       "  color: var(--sklearn-color-text);\n",
       "}\n",
       "\n",
       "#sk-container-id-9 pre {\n",
       "  padding: 0;\n",
       "}\n",
       "\n",
       "#sk-container-id-9 input.sk-hidden--visually {\n",
       "  border: 0;\n",
       "  clip: rect(1px 1px 1px 1px);\n",
       "  clip: rect(1px, 1px, 1px, 1px);\n",
       "  height: 1px;\n",
       "  margin: -1px;\n",
       "  overflow: hidden;\n",
       "  padding: 0;\n",
       "  position: absolute;\n",
       "  width: 1px;\n",
       "}\n",
       "\n",
       "#sk-container-id-9 div.sk-dashed-wrapped {\n",
       "  border: 1px dashed var(--sklearn-color-line);\n",
       "  margin: 0 0.4em 0.5em 0.4em;\n",
       "  box-sizing: border-box;\n",
       "  padding-bottom: 0.4em;\n",
       "  background-color: var(--sklearn-color-background);\n",
       "}\n",
       "\n",
       "#sk-container-id-9 div.sk-container {\n",
       "  /* jupyter's `normalize.less` sets `[hidden] { display: none; }`\n",
       "     but bootstrap.min.css set `[hidden] { display: none !important; }`\n",
       "     so we also need the `!important` here to be able to override the\n",
       "     default hidden behavior on the sphinx rendered scikit-learn.org.\n",
       "     See: https://github.com/scikit-learn/scikit-learn/issues/21755 */\n",
       "  display: inline-block !important;\n",
       "  position: relative;\n",
       "}\n",
       "\n",
       "#sk-container-id-9 div.sk-text-repr-fallback {\n",
       "  display: none;\n",
       "}\n",
       "\n",
       "div.sk-parallel-item,\n",
       "div.sk-serial,\n",
       "div.sk-item {\n",
       "  /* draw centered vertical line to link estimators */\n",
       "  background-image: linear-gradient(var(--sklearn-color-text-on-default-background), var(--sklearn-color-text-on-default-background));\n",
       "  background-size: 2px 100%;\n",
       "  background-repeat: no-repeat;\n",
       "  background-position: center center;\n",
       "}\n",
       "\n",
       "/* Parallel-specific style estimator block */\n",
       "\n",
       "#sk-container-id-9 div.sk-parallel-item::after {\n",
       "  content: \"\";\n",
       "  width: 100%;\n",
       "  border-bottom: 2px solid var(--sklearn-color-text-on-default-background);\n",
       "  flex-grow: 1;\n",
       "}\n",
       "\n",
       "#sk-container-id-9 div.sk-parallel {\n",
       "  display: flex;\n",
       "  align-items: stretch;\n",
       "  justify-content: center;\n",
       "  background-color: var(--sklearn-color-background);\n",
       "  position: relative;\n",
       "}\n",
       "\n",
       "#sk-container-id-9 div.sk-parallel-item {\n",
       "  display: flex;\n",
       "  flex-direction: column;\n",
       "}\n",
       "\n",
       "#sk-container-id-9 div.sk-parallel-item:first-child::after {\n",
       "  align-self: flex-end;\n",
       "  width: 50%;\n",
       "}\n",
       "\n",
       "#sk-container-id-9 div.sk-parallel-item:last-child::after {\n",
       "  align-self: flex-start;\n",
       "  width: 50%;\n",
       "}\n",
       "\n",
       "#sk-container-id-9 div.sk-parallel-item:only-child::after {\n",
       "  width: 0;\n",
       "}\n",
       "\n",
       "/* Serial-specific style estimator block */\n",
       "\n",
       "#sk-container-id-9 div.sk-serial {\n",
       "  display: flex;\n",
       "  flex-direction: column;\n",
       "  align-items: center;\n",
       "  background-color: var(--sklearn-color-background);\n",
       "  padding-right: 1em;\n",
       "  padding-left: 1em;\n",
       "}\n",
       "\n",
       "\n",
       "/* Toggleable style: style used for estimator/Pipeline/ColumnTransformer box that is\n",
       "clickable and can be expanded/collapsed.\n",
       "- Pipeline and ColumnTransformer use this feature and define the default style\n",
       "- Estimators will overwrite some part of the style using the `sk-estimator` class\n",
       "*/\n",
       "\n",
       "/* Pipeline and ColumnTransformer style (default) */\n",
       "\n",
       "#sk-container-id-9 div.sk-toggleable {\n",
       "  /* Default theme specific background. It is overwritten whether we have a\n",
       "  specific estimator or a Pipeline/ColumnTransformer */\n",
       "  background-color: var(--sklearn-color-background);\n",
       "}\n",
       "\n",
       "/* Toggleable label */\n",
       "#sk-container-id-9 label.sk-toggleable__label {\n",
       "  cursor: pointer;\n",
       "  display: block;\n",
       "  width: 100%;\n",
       "  margin-bottom: 0;\n",
       "  padding: 0.5em;\n",
       "  box-sizing: border-box;\n",
       "  text-align: center;\n",
       "}\n",
       "\n",
       "#sk-container-id-9 label.sk-toggleable__label-arrow:before {\n",
       "  /* Arrow on the left of the label */\n",
       "  content: \"▸\";\n",
       "  float: left;\n",
       "  margin-right: 0.25em;\n",
       "  color: var(--sklearn-color-icon);\n",
       "}\n",
       "\n",
       "#sk-container-id-9 label.sk-toggleable__label-arrow:hover:before {\n",
       "  color: var(--sklearn-color-text);\n",
       "}\n",
       "\n",
       "/* Toggleable content - dropdown */\n",
       "\n",
       "#sk-container-id-9 div.sk-toggleable__content {\n",
       "  max-height: 0;\n",
       "  max-width: 0;\n",
       "  overflow: hidden;\n",
       "  text-align: left;\n",
       "  /* unfitted */\n",
       "  background-color: var(--sklearn-color-unfitted-level-0);\n",
       "}\n",
       "\n",
       "#sk-container-id-9 div.sk-toggleable__content.fitted {\n",
       "  /* fitted */\n",
       "  background-color: var(--sklearn-color-fitted-level-0);\n",
       "}\n",
       "\n",
       "#sk-container-id-9 div.sk-toggleable__content pre {\n",
       "  margin: 0.2em;\n",
       "  border-radius: 0.25em;\n",
       "  color: var(--sklearn-color-text);\n",
       "  /* unfitted */\n",
       "  background-color: var(--sklearn-color-unfitted-level-0);\n",
       "}\n",
       "\n",
       "#sk-container-id-9 div.sk-toggleable__content.fitted pre {\n",
       "  /* unfitted */\n",
       "  background-color: var(--sklearn-color-fitted-level-0);\n",
       "}\n",
       "\n",
       "#sk-container-id-9 input.sk-toggleable__control:checked~div.sk-toggleable__content {\n",
       "  /* Expand drop-down */\n",
       "  max-height: 200px;\n",
       "  max-width: 100%;\n",
       "  overflow: auto;\n",
       "}\n",
       "\n",
       "#sk-container-id-9 input.sk-toggleable__control:checked~label.sk-toggleable__label-arrow:before {\n",
       "  content: \"▾\";\n",
       "}\n",
       "\n",
       "/* Pipeline/ColumnTransformer-specific style */\n",
       "\n",
       "#sk-container-id-9 div.sk-label input.sk-toggleable__control:checked~label.sk-toggleable__label {\n",
       "  color: var(--sklearn-color-text);\n",
       "  background-color: var(--sklearn-color-unfitted-level-2);\n",
       "}\n",
       "\n",
       "#sk-container-id-9 div.sk-label.fitted input.sk-toggleable__control:checked~label.sk-toggleable__label {\n",
       "  background-color: var(--sklearn-color-fitted-level-2);\n",
       "}\n",
       "\n",
       "/* Estimator-specific style */\n",
       "\n",
       "/* Colorize estimator box */\n",
       "#sk-container-id-9 div.sk-estimator input.sk-toggleable__control:checked~label.sk-toggleable__label {\n",
       "  /* unfitted */\n",
       "  background-color: var(--sklearn-color-unfitted-level-2);\n",
       "}\n",
       "\n",
       "#sk-container-id-9 div.sk-estimator.fitted input.sk-toggleable__control:checked~label.sk-toggleable__label {\n",
       "  /* fitted */\n",
       "  background-color: var(--sklearn-color-fitted-level-2);\n",
       "}\n",
       "\n",
       "#sk-container-id-9 div.sk-label label.sk-toggleable__label,\n",
       "#sk-container-id-9 div.sk-label label {\n",
       "  /* The background is the default theme color */\n",
       "  color: var(--sklearn-color-text-on-default-background);\n",
       "}\n",
       "\n",
       "/* On hover, darken the color of the background */\n",
       "#sk-container-id-9 div.sk-label:hover label.sk-toggleable__label {\n",
       "  color: var(--sklearn-color-text);\n",
       "  background-color: var(--sklearn-color-unfitted-level-2);\n",
       "}\n",
       "\n",
       "/* Label box, darken color on hover, fitted */\n",
       "#sk-container-id-9 div.sk-label.fitted:hover label.sk-toggleable__label.fitted {\n",
       "  color: var(--sklearn-color-text);\n",
       "  background-color: var(--sklearn-color-fitted-level-2);\n",
       "}\n",
       "\n",
       "/* Estimator label */\n",
       "\n",
       "#sk-container-id-9 div.sk-label label {\n",
       "  font-family: monospace;\n",
       "  font-weight: bold;\n",
       "  display: inline-block;\n",
       "  line-height: 1.2em;\n",
       "}\n",
       "\n",
       "#sk-container-id-9 div.sk-label-container {\n",
       "  text-align: center;\n",
       "}\n",
       "\n",
       "/* Estimator-specific */\n",
       "#sk-container-id-9 div.sk-estimator {\n",
       "  font-family: monospace;\n",
       "  border: 1px dotted var(--sklearn-color-border-box);\n",
       "  border-radius: 0.25em;\n",
       "  box-sizing: border-box;\n",
       "  margin-bottom: 0.5em;\n",
       "  /* unfitted */\n",
       "  background-color: var(--sklearn-color-unfitted-level-0);\n",
       "}\n",
       "\n",
       "#sk-container-id-9 div.sk-estimator.fitted {\n",
       "  /* fitted */\n",
       "  background-color: var(--sklearn-color-fitted-level-0);\n",
       "}\n",
       "\n",
       "/* on hover */\n",
       "#sk-container-id-9 div.sk-estimator:hover {\n",
       "  /* unfitted */\n",
       "  background-color: var(--sklearn-color-unfitted-level-2);\n",
       "}\n",
       "\n",
       "#sk-container-id-9 div.sk-estimator.fitted:hover {\n",
       "  /* fitted */\n",
       "  background-color: var(--sklearn-color-fitted-level-2);\n",
       "}\n",
       "\n",
       "/* Specification for estimator info (e.g. \"i\" and \"?\") */\n",
       "\n",
       "/* Common style for \"i\" and \"?\" */\n",
       "\n",
       ".sk-estimator-doc-link,\n",
       "a:link.sk-estimator-doc-link,\n",
       "a:visited.sk-estimator-doc-link {\n",
       "  float: right;\n",
       "  font-size: smaller;\n",
       "  line-height: 1em;\n",
       "  font-family: monospace;\n",
       "  background-color: var(--sklearn-color-background);\n",
       "  border-radius: 1em;\n",
       "  height: 1em;\n",
       "  width: 1em;\n",
       "  text-decoration: none !important;\n",
       "  margin-left: 1ex;\n",
       "  /* unfitted */\n",
       "  border: var(--sklearn-color-unfitted-level-1) 1pt solid;\n",
       "  color: var(--sklearn-color-unfitted-level-1);\n",
       "}\n",
       "\n",
       ".sk-estimator-doc-link.fitted,\n",
       "a:link.sk-estimator-doc-link.fitted,\n",
       "a:visited.sk-estimator-doc-link.fitted {\n",
       "  /* fitted */\n",
       "  border: var(--sklearn-color-fitted-level-1) 1pt solid;\n",
       "  color: var(--sklearn-color-fitted-level-1);\n",
       "}\n",
       "\n",
       "/* On hover */\n",
       "div.sk-estimator:hover .sk-estimator-doc-link:hover,\n",
       ".sk-estimator-doc-link:hover,\n",
       "div.sk-label-container:hover .sk-estimator-doc-link:hover,\n",
       ".sk-estimator-doc-link:hover {\n",
       "  /* unfitted */\n",
       "  background-color: var(--sklearn-color-unfitted-level-3);\n",
       "  color: var(--sklearn-color-background);\n",
       "  text-decoration: none;\n",
       "}\n",
       "\n",
       "div.sk-estimator.fitted:hover .sk-estimator-doc-link.fitted:hover,\n",
       ".sk-estimator-doc-link.fitted:hover,\n",
       "div.sk-label-container:hover .sk-estimator-doc-link.fitted:hover,\n",
       ".sk-estimator-doc-link.fitted:hover {\n",
       "  /* fitted */\n",
       "  background-color: var(--sklearn-color-fitted-level-3);\n",
       "  color: var(--sklearn-color-background);\n",
       "  text-decoration: none;\n",
       "}\n",
       "\n",
       "/* Span, style for the box shown on hovering the info icon */\n",
       ".sk-estimator-doc-link span {\n",
       "  display: none;\n",
       "  z-index: 9999;\n",
       "  position: relative;\n",
       "  font-weight: normal;\n",
       "  right: .2ex;\n",
       "  padding: .5ex;\n",
       "  margin: .5ex;\n",
       "  width: min-content;\n",
       "  min-width: 20ex;\n",
       "  max-width: 50ex;\n",
       "  color: var(--sklearn-color-text);\n",
       "  box-shadow: 2pt 2pt 4pt #999;\n",
       "  /* unfitted */\n",
       "  background: var(--sklearn-color-unfitted-level-0);\n",
       "  border: .5pt solid var(--sklearn-color-unfitted-level-3);\n",
       "}\n",
       "\n",
       ".sk-estimator-doc-link.fitted span {\n",
       "  /* fitted */\n",
       "  background: var(--sklearn-color-fitted-level-0);\n",
       "  border: var(--sklearn-color-fitted-level-3);\n",
       "}\n",
       "\n",
       ".sk-estimator-doc-link:hover span {\n",
       "  display: block;\n",
       "}\n",
       "\n",
       "/* \"?\"-specific style due to the `<a>` HTML tag */\n",
       "\n",
       "#sk-container-id-9 a.estimator_doc_link {\n",
       "  float: right;\n",
       "  font-size: 1rem;\n",
       "  line-height: 1em;\n",
       "  font-family: monospace;\n",
       "  background-color: var(--sklearn-color-background);\n",
       "  border-radius: 1rem;\n",
       "  height: 1rem;\n",
       "  width: 1rem;\n",
       "  text-decoration: none;\n",
       "  /* unfitted */\n",
       "  color: var(--sklearn-color-unfitted-level-1);\n",
       "  border: var(--sklearn-color-unfitted-level-1) 1pt solid;\n",
       "}\n",
       "\n",
       "#sk-container-id-9 a.estimator_doc_link.fitted {\n",
       "  /* fitted */\n",
       "  border: var(--sklearn-color-fitted-level-1) 1pt solid;\n",
       "  color: var(--sklearn-color-fitted-level-1);\n",
       "}\n",
       "\n",
       "/* On hover */\n",
       "#sk-container-id-9 a.estimator_doc_link:hover {\n",
       "  /* unfitted */\n",
       "  background-color: var(--sklearn-color-unfitted-level-3);\n",
       "  color: var(--sklearn-color-background);\n",
       "  text-decoration: none;\n",
       "}\n",
       "\n",
       "#sk-container-id-9 a.estimator_doc_link.fitted:hover {\n",
       "  /* fitted */\n",
       "  background-color: var(--sklearn-color-fitted-level-3);\n",
       "}\n",
       "</style><div id=\"sk-container-id-9\" class=\"sk-top-container\"><div class=\"sk-text-repr-fallback\"><pre>AdaBoostClassifier(estimator=DecisionTreeClassifier())</pre><b>In a Jupyter environment, please rerun this cell to show the HTML representation or trust the notebook. <br />On GitHub, the HTML representation is unable to render, please try loading this page with nbviewer.org.</b></div><div class=\"sk-container\" hidden><div class=\"sk-item sk-dashed-wrapped\"><div class=\"sk-label-container\"><div class=\"sk-label fitted sk-toggleable\"><input class=\"sk-toggleable__control sk-hidden--visually\" id=\"sk-estimator-id-25\" type=\"checkbox\" ><label for=\"sk-estimator-id-25\" class=\"sk-toggleable__label fitted sk-toggleable__label-arrow fitted\">&nbsp;&nbsp;AdaBoostClassifier<a class=\"sk-estimator-doc-link fitted\" rel=\"noreferrer\" target=\"_blank\" href=\"https://scikit-learn.org/1.5/modules/generated/sklearn.ensemble.AdaBoostClassifier.html\">?<span>Documentation for AdaBoostClassifier</span></a><span class=\"sk-estimator-doc-link fitted\">i<span>Fitted</span></span></label><div class=\"sk-toggleable__content fitted\"><pre>AdaBoostClassifier(estimator=DecisionTreeClassifier())</pre></div> </div></div><div class=\"sk-parallel\"><div class=\"sk-parallel-item\"><div class=\"sk-item\"><div class=\"sk-label-container\"><div class=\"sk-label fitted sk-toggleable\"><input class=\"sk-toggleable__control sk-hidden--visually\" id=\"sk-estimator-id-26\" type=\"checkbox\" ><label for=\"sk-estimator-id-26\" class=\"sk-toggleable__label fitted sk-toggleable__label-arrow fitted\">estimator: DecisionTreeClassifier</label><div class=\"sk-toggleable__content fitted\"><pre>DecisionTreeClassifier()</pre></div> </div></div><div class=\"sk-serial\"><div class=\"sk-item\"><div class=\"sk-estimator fitted sk-toggleable\"><input class=\"sk-toggleable__control sk-hidden--visually\" id=\"sk-estimator-id-27\" type=\"checkbox\" ><label for=\"sk-estimator-id-27\" class=\"sk-toggleable__label fitted sk-toggleable__label-arrow fitted\">&nbsp;DecisionTreeClassifier<a class=\"sk-estimator-doc-link fitted\" rel=\"noreferrer\" target=\"_blank\" href=\"https://scikit-learn.org/1.5/modules/generated/sklearn.tree.DecisionTreeClassifier.html\">?<span>Documentation for DecisionTreeClassifier</span></a></label><div class=\"sk-toggleable__content fitted\"><pre>DecisionTreeClassifier()</pre></div> </div></div></div></div></div></div></div></div></div>"
      ],
      "text/plain": [
       "AdaBoostClassifier(estimator=DecisionTreeClassifier())"
      ]
     },
     "execution_count": 99,
     "metadata": {},
     "output_type": "execute_result"
    }
   ],
   "source": [
    "# Random Forest\n",
    "clf_rand_forest = RandomForestClassifier()\n",
    "clf_rand_forest.fit(X_train, Y_train)\n",
    "\n",
    "# SVM\n",
    "clf_svm = svm.SVC(kernel = 'linear')\n",
    "clf_svm.fit(X_train, Y_train)\n",
    "\n",
    "# Naive Bayes\n",
    "clf_gnb = GaussianNB()\n",
    "clf_gnb.fit(X_train, Y_train)\n",
    "\n",
    "# Logistic Regression\n",
    "clf_log = LogisticRegression(solver = 'lbfgs', max_iter = 2500)\n",
    "clf_log.fit(X_train, Y_train)\n",
    "\n",
    "# KNN\n",
    "clf_knn = KNeighborsClassifier(n_neighbors = 5)\n",
    "clf_knn.fit(X_train, Y_train)\n",
    "\n",
    "# XG Boost\n",
    "clf_xgb = XGBClassifier(objective = 'multi:softmax', \n",
    "                        learning_rate = 0.5, \n",
    "                        max_depth = 5, \n",
    "                        n_estimators = 150, \n",
    "                        eval_metric = 'mlogloss',  \n",
    "                        use_label_encoder = False)\n",
    "clf_xgb.fit(X_train, Y_train)\n",
    "\n",
    "# Decision Tree\n",
    "clf_dtc = DecisionTreeClassifier()\n",
    "clf_dtc.fit(X_train, Y_train)\n",
    "\n",
    "# Ada Boost\n",
    "clf_ada = AdaBoostClassifier(estimator = clf_dtc)\n",
    "clf_ada.fit(X_train, Y_train)"
   ]
  },
  {
   "cell_type": "code",
   "execution_count": null,
   "metadata": {},
   "outputs": [
    {
     "name": "stdout",
     "output_type": "stream",
     "text": [
      "Epoch 1, Training Loss: 2.909140110015869\n",
      "Epoch 2, Training Loss: 2.888044834136963\n",
      "Epoch 3, Training Loss: 1.7965962886810303\n",
      "Epoch 4, Training Loss: 2.3255350589752197\n",
      "Epoch 5, Training Loss: 1.6433165073394775\n"
     ]
    },
    {
     "ename": "KeyboardInterrupt",
     "evalue": "",
     "output_type": "error",
     "traceback": [
      "\u001b[0;31m---------------------------------------------------------------------------\u001b[0m",
      "\u001b[0;31mKeyboardInterrupt\u001b[0m                         Traceback (most recent call last)",
      "Cell \u001b[0;32mIn[100], line 122\u001b[0m\n\u001b[1;32m    120\u001b[0m optimizer \u001b[38;5;241m=\u001b[39m optim\u001b[38;5;241m.\u001b[39mAdam(model\u001b[38;5;241m.\u001b[39mparameters(), lr \u001b[38;5;241m=\u001b[39m \u001b[38;5;241m0.001\u001b[39m)\n\u001b[1;32m    121\u001b[0m scheduler \u001b[38;5;241m=\u001b[39m StepLR(optimizer, step_size \u001b[38;5;241m=\u001b[39m \u001b[38;5;241m2\u001b[39m, gamma \u001b[38;5;241m=\u001b[39m \u001b[38;5;241m0.5\u001b[39m)\n\u001b[0;32m--> 122\u001b[0m best_model_state \u001b[38;5;241m=\u001b[39m \u001b[43mtrain\u001b[49m\u001b[43m(\u001b[49m\u001b[43mmodel\u001b[49m\u001b[43m,\u001b[49m\u001b[43m \u001b[49m\u001b[43mtrain_loader\u001b[49m\u001b[43m,\u001b[49m\u001b[43m \u001b[49m\u001b[43mval_loader\u001b[49m\u001b[43m,\u001b[49m\u001b[43m \u001b[49m\u001b[43moptimizer\u001b[49m\u001b[43m,\u001b[49m\u001b[43m \u001b[49m\u001b[43mscheduler\u001b[49m\u001b[43m,\u001b[49m\u001b[43m \u001b[49m\u001b[38;5;241;43m20\u001b[39;49m\u001b[43m)\u001b[49m\n",
      "Cell \u001b[0;32mIn[100], line 80\u001b[0m, in \u001b[0;36mtrain\u001b[0;34m(model, train_loader, val_loader, optimizer, scheduler, epochs)\u001b[0m\n\u001b[1;32m     78\u001b[0m     output \u001b[38;5;241m=\u001b[39m model(data)\n\u001b[1;32m     79\u001b[0m     loss \u001b[38;5;241m=\u001b[39m elbo_loss(output, target, model, lam_weight)\n\u001b[0;32m---> 80\u001b[0m     \u001b[43mloss\u001b[49m\u001b[38;5;241;43m.\u001b[39;49m\u001b[43mbackward\u001b[49m\u001b[43m(\u001b[49m\u001b[43m)\u001b[49m\n\u001b[1;32m     81\u001b[0m     optimizer\u001b[38;5;241m.\u001b[39mstep()\n\u001b[1;32m     83\u001b[0m scheduler\u001b[38;5;241m.\u001b[39mstep()    \n",
      "File \u001b[0;32m/opt/anaconda3/envs/DS340W/lib/python3.10/site-packages/torch/_tensor.py:581\u001b[0m, in \u001b[0;36mTensor.backward\u001b[0;34m(self, gradient, retain_graph, create_graph, inputs)\u001b[0m\n\u001b[1;32m    571\u001b[0m \u001b[38;5;28;01mif\u001b[39;00m has_torch_function_unary(\u001b[38;5;28mself\u001b[39m):\n\u001b[1;32m    572\u001b[0m     \u001b[38;5;28;01mreturn\u001b[39;00m handle_torch_function(\n\u001b[1;32m    573\u001b[0m         Tensor\u001b[38;5;241m.\u001b[39mbackward,\n\u001b[1;32m    574\u001b[0m         (\u001b[38;5;28mself\u001b[39m,),\n\u001b[0;32m   (...)\u001b[0m\n\u001b[1;32m    579\u001b[0m         inputs\u001b[38;5;241m=\u001b[39minputs,\n\u001b[1;32m    580\u001b[0m     )\n\u001b[0;32m--> 581\u001b[0m \u001b[43mtorch\u001b[49m\u001b[38;5;241;43m.\u001b[39;49m\u001b[43mautograd\u001b[49m\u001b[38;5;241;43m.\u001b[39;49m\u001b[43mbackward\u001b[49m\u001b[43m(\u001b[49m\n\u001b[1;32m    582\u001b[0m \u001b[43m    \u001b[49m\u001b[38;5;28;43mself\u001b[39;49m\u001b[43m,\u001b[49m\u001b[43m \u001b[49m\u001b[43mgradient\u001b[49m\u001b[43m,\u001b[49m\u001b[43m \u001b[49m\u001b[43mretain_graph\u001b[49m\u001b[43m,\u001b[49m\u001b[43m \u001b[49m\u001b[43mcreate_graph\u001b[49m\u001b[43m,\u001b[49m\u001b[43m \u001b[49m\u001b[43minputs\u001b[49m\u001b[38;5;241;43m=\u001b[39;49m\u001b[43minputs\u001b[49m\n\u001b[1;32m    583\u001b[0m \u001b[43m\u001b[49m\u001b[43m)\u001b[49m\n",
      "File \u001b[0;32m/opt/anaconda3/envs/DS340W/lib/python3.10/site-packages/torch/autograd/__init__.py:347\u001b[0m, in \u001b[0;36mbackward\u001b[0;34m(tensors, grad_tensors, retain_graph, create_graph, grad_variables, inputs)\u001b[0m\n\u001b[1;32m    342\u001b[0m     retain_graph \u001b[38;5;241m=\u001b[39m create_graph\n\u001b[1;32m    344\u001b[0m \u001b[38;5;66;03m# The reason we repeat the same comment below is that\u001b[39;00m\n\u001b[1;32m    345\u001b[0m \u001b[38;5;66;03m# some Python versions print out the first line of a multi-line function\u001b[39;00m\n\u001b[1;32m    346\u001b[0m \u001b[38;5;66;03m# calls in the traceback and some print out the last line\u001b[39;00m\n\u001b[0;32m--> 347\u001b[0m \u001b[43m_engine_run_backward\u001b[49m\u001b[43m(\u001b[49m\n\u001b[1;32m    348\u001b[0m \u001b[43m    \u001b[49m\u001b[43mtensors\u001b[49m\u001b[43m,\u001b[49m\n\u001b[1;32m    349\u001b[0m \u001b[43m    \u001b[49m\u001b[43mgrad_tensors_\u001b[49m\u001b[43m,\u001b[49m\n\u001b[1;32m    350\u001b[0m \u001b[43m    \u001b[49m\u001b[43mretain_graph\u001b[49m\u001b[43m,\u001b[49m\n\u001b[1;32m    351\u001b[0m \u001b[43m    \u001b[49m\u001b[43mcreate_graph\u001b[49m\u001b[43m,\u001b[49m\n\u001b[1;32m    352\u001b[0m \u001b[43m    \u001b[49m\u001b[43minputs\u001b[49m\u001b[43m,\u001b[49m\n\u001b[1;32m    353\u001b[0m \u001b[43m    \u001b[49m\u001b[43mallow_unreachable\u001b[49m\u001b[38;5;241;43m=\u001b[39;49m\u001b[38;5;28;43;01mTrue\u001b[39;49;00m\u001b[43m,\u001b[49m\n\u001b[1;32m    354\u001b[0m \u001b[43m    \u001b[49m\u001b[43maccumulate_grad\u001b[49m\u001b[38;5;241;43m=\u001b[39;49m\u001b[38;5;28;43;01mTrue\u001b[39;49;00m\u001b[43m,\u001b[49m\n\u001b[1;32m    355\u001b[0m \u001b[43m\u001b[49m\u001b[43m)\u001b[49m\n",
      "File \u001b[0;32m/opt/anaconda3/envs/DS340W/lib/python3.10/site-packages/torch/autograd/graph.py:825\u001b[0m, in \u001b[0;36m_engine_run_backward\u001b[0;34m(t_outputs, *args, **kwargs)\u001b[0m\n\u001b[1;32m    823\u001b[0m     unregister_hooks \u001b[38;5;241m=\u001b[39m _register_logging_hooks_on_whole_graph(t_outputs)\n\u001b[1;32m    824\u001b[0m \u001b[38;5;28;01mtry\u001b[39;00m:\n\u001b[0;32m--> 825\u001b[0m     \u001b[38;5;28;01mreturn\u001b[39;00m \u001b[43mVariable\u001b[49m\u001b[38;5;241;43m.\u001b[39;49m\u001b[43m_execution_engine\u001b[49m\u001b[38;5;241;43m.\u001b[39;49m\u001b[43mrun_backward\u001b[49m\u001b[43m(\u001b[49m\u001b[43m  \u001b[49m\u001b[38;5;66;43;03m# Calls into the C++ engine to run the backward pass\u001b[39;49;00m\n\u001b[1;32m    826\u001b[0m \u001b[43m        \u001b[49m\u001b[43mt_outputs\u001b[49m\u001b[43m,\u001b[49m\u001b[43m \u001b[49m\u001b[38;5;241;43m*\u001b[39;49m\u001b[43margs\u001b[49m\u001b[43m,\u001b[49m\u001b[43m \u001b[49m\u001b[38;5;241;43m*\u001b[39;49m\u001b[38;5;241;43m*\u001b[39;49m\u001b[43mkwargs\u001b[49m\n\u001b[1;32m    827\u001b[0m \u001b[43m    \u001b[49m\u001b[43m)\u001b[49m  \u001b[38;5;66;03m# Calls into the C++ engine to run the backward pass\u001b[39;00m\n\u001b[1;32m    828\u001b[0m \u001b[38;5;28;01mfinally\u001b[39;00m:\n\u001b[1;32m    829\u001b[0m     \u001b[38;5;28;01mif\u001b[39;00m attach_logging_hooks:\n",
      "\u001b[0;31mKeyboardInterrupt\u001b[0m: "
     ]
    }
   ],
   "source": [
    "# Model Architecture\n",
    "class BayesianNeuralNetwork(nn.Module):\n",
    "    def __init__(self, feature_size, num_classes, layer_1_size, layer_2_size, layer_3_size):\n",
    "        super().__init__()\n",
    "        prior_mean = 0\n",
    "        prior_variance = 1\n",
    "\n",
    "        # Layers\n",
    "        self.bayes_linear_1 = bnn.BayesLinear(prior_mu = prior_mean, prior_sigma = prior_variance, in_features = feature_size, out_features = layer_1_size)\n",
    "        self.bayes_linear_2 = bnn.BayesLinear(prior_mu = prior_mean, prior_sigma = prior_variance, in_features = layer_1_size, out_features = layer_2_size)\n",
    "        self.bayes_linear_3 = bnn.BayesLinear(prior_mu = prior_mean, prior_sigma = prior_variance, in_features = layer_2_size, out_features = layer_3_size)\n",
    "\n",
    "        self.output_layer = nn.Linear(in_features = layer_3_size, out_features = num_classes)\n",
    "    \n",
    "    def forward(self, x):\n",
    "        x = torch.relu(self.bayes_linear_1(x))\n",
    "        x = torch.relu(self.bayes_linear_2(x))\n",
    "        x = torch.relu(self.bayes_linear_3(x))\n",
    "\n",
    "        logits = self.output_layer(x)\n",
    "        #probabilities = torch.softmax(logits, dim=-1)\n",
    "        return logits\n",
    "\n",
    "    def predict(self, x, num_samples = 1000):\n",
    "        self.eval()\n",
    "        outputs = []\n",
    "\n",
    "        with torch.no_grad():\n",
    "            for i in range(num_samples):\n",
    "                output_sample = self(x)\n",
    "                output_prob = torch.softmax(output_sample, dim = 1)\n",
    "                outputs.append(output_prob)\n",
    "                \n",
    "        outputs = torch.stack(outputs).numpy()\n",
    "\n",
    "        # Class prediction\n",
    "        mean_output = np.mean(outputs, axis = 0)\n",
    "        predicted_classes = np.argmax(mean_output, axis = 1)\n",
    "\n",
    "        # Uncertainty estimation\n",
    "        epistemic_uncertainty = np.var(outputs, axis = 0)\n",
    "        mean_epistemic_uncertainty = np.mean(epistemic_uncertainty)\n",
    "\n",
    "        # Credible Intervals\n",
    "        lower_bound = np.percentile(outputs, 2.5, axis = 0)\n",
    "        upper_bound = np.percentile(outputs, 97.5, axis = 0)\n",
    "        credible_intervals = np.stack((lower_bound, upper_bound), axis = 1)\n",
    "\n",
    "        lower_bounds = credible_intervals[:, :, 0]\n",
    "        upper_bounds = credible_intervals[:, :, 1]\n",
    "\n",
    "        # Global Credible Interval\n",
    "        global_lower_bound = float(np.min(lower_bounds))\n",
    "        global_upper_bound = float(np.max(upper_bounds))\n",
    "        global_credible_interval = (global_lower_bound, global_upper_bound)\n",
    "\n",
    "        return predicted_classes, mean_epistemic_uncertainty, global_credible_interval\n",
    " \n",
    "\n",
    "# Loss Function\n",
    "def elbo_loss(output, target, model, lam):\n",
    "    standard_loss = nn.CrossEntropyLoss()(output, target)\n",
    "    # The BKLLoss function automatically predfines the variational distribution as a normal distribution\n",
    "    kl_loss = bnn.BKLLoss(reduction = 'mean', last_layer_only = False)\n",
    "\n",
    "    return standard_loss + (kl_loss(model) * lam)\n",
    "\n",
    "def train(model, train_loader, val_loader, optimizer, scheduler, epochs = 5):\n",
    "    best_val_loss = float('inf')\n",
    "    best_model_state = None\n",
    "    best_epoch = None\n",
    "    lam_weight = 10\n",
    "\n",
    "    model.train()\n",
    "    for epoch in range(epochs):\n",
    "        for data, target in train_loader:\n",
    "            optimizer.zero_grad()\n",
    "            output = model(data)\n",
    "            loss = elbo_loss(output, target, model, lam_weight)\n",
    "            loss.backward()\n",
    "            optimizer.step()\n",
    "\n",
    "        scheduler.step()    \n",
    "        print(f\"Epoch {epoch + 1}, Training Loss: {loss.item()}\")\n",
    "        \n",
    "        model.eval()\n",
    "        val_loss = 0.0\n",
    "        with torch.no_grad():\n",
    "            for data, target in val_loader:\n",
    "                output = model(data)\n",
    "                val_loss += elbo_loss(output, target, model, lam_weight).item()\n",
    "\n",
    "        val_loss = (val_loss / len(val_loader))\n",
    "\n",
    "        if val_loss < best_val_loss:\n",
    "            best_epoch = epoch\n",
    "            best_val_loss = val_loss\n",
    "            best_model_state = model.state_dict()\n",
    "\n",
    "    print(f\"Best Epoch: {best_epoch}\")\n",
    "    print(f\"Best Validation Loss: {best_val_loss}\")\n",
    "    return best_model_state\n",
    "\n",
    "\n",
    "# Reformat the training set\n",
    "X_train_tensor = torch.tensor(X_train.values).float()\n",
    "Y_train_tensor = torch.tensor(pd.Series(Y_train).values).long()\n",
    "\n",
    "dataset = TensorDataset(X_train_tensor, Y_train_tensor)\n",
    "train_loader = DataLoader(dataset, batch_size = 32, shuffle = True)\n",
    "\n",
    "# Reformat the validation set\n",
    "X_val_tensor = torch.tensor(X_val.values).float()\n",
    "Y_val_tensor = torch.tensor(pd.Series(Y_val).values).long()\n",
    "\n",
    "dataset = TensorDataset(X_val_tensor, Y_val_tensor)\n",
    "val_loader = DataLoader(dataset, batch_size = 32, shuffle = True)\n",
    "\n",
    "model = BayesianNeuralNetwork(feature_size = X_train.shape[1], num_classes = len(torch.unique(Y_train_tensor)), layer_1_size = 128, layer_2_size = 128, layer_3_size = 128)\n",
    "optimizer = optim.Adam(model.parameters(), lr = 0.001)\n",
    "scheduler = StepLR(optimizer, step_size = 2, gamma = 0.5)\n",
    "best_model_state = train(model, train_loader, val_loader, optimizer, scheduler, 20)"
   ]
  },
  {
   "cell_type": "code",
   "execution_count": null,
   "metadata": {},
   "outputs": [
    {
     "name": "stdout",
     "output_type": "stream",
     "text": [
      "Accuracy: 0.40298142717497554\n",
      "Mean Absolute Error: 1.83822091886608\n",
      "Mean Squared Error: 6.613880742913001\n",
      "Epistemic Uncertainty: 0.0011646219063550234\n",
      "Global Credible Interval: (0.15320615470409393, 0.2207467257976532)\n",
      "Classification Report: \n",
      "              precision    recall  f1-score   support\n",
      "\n",
      "           0       0.40      1.00      0.57      1649\n",
      "           1       1.00      0.00      0.00       558\n",
      "           2       1.00      0.00      0.00       189\n",
      "           3       1.00      0.00      0.00       198\n",
      "           4       1.00      0.00      0.00      1498\n",
      "\n",
      "    accuracy                           0.40      4092\n",
      "   macro avg       0.88      0.20      0.11      4092\n",
      "weighted avg       0.76      0.40      0.23      4092\n",
      "\n"
     ]
    }
   ],
   "source": [
    "X_test_tensor = torch.tensor(X_test.values).float()\n",
    "\n",
    "model.load_state_dict(best_model_state)\n",
    "model.eval()\n",
    "\n",
    "predicted_classes, epistemic_uncertainty, global_credible_interval = model.predict(X_test_tensor, num_samples = 2500)\n",
    "\n",
    "bnn_acc = accuracy_score(Y_test, predicted_classes)\n",
    "\n",
    "print(f\"Accuracy: {bnn_acc}\")\n",
    "print(f\"Precision: {precision_score(Y_test, predicted_classes, average = 'weighted')}\")\n",
    "print(f\"Recall: {recall_score(Y_test, predicted_classes, average = 'weighted')}\")\n",
    "print(f\"F1-Score: {f1_score(Y_test, predicted_classes, average = 'weighted')}\")\n",
    "print(f\"Mean Absolute Error: {mean_absolute_error(Y_test, predicted_classes)}\")\n",
    "print(f\"Mean Squared Error: {mean_squared_error(Y_test, predicted_classes)}\")\n",
    "print(f\"Epistemic Uncertainty: {epistemic_uncertainty}\")\n",
    "print(f\"Global Credible Interval: {global_credible_interval}\")\n",
    "print(f\"Classification Report: \\n{classification_report(Y_test, predicted_classes, zero_division = 1)}\")"
   ]
  },
  {
   "cell_type": "markdown",
   "metadata": {},
   "source": [
    "# Training OOD Models"
   ]
  },
  {
   "cell_type": "code",
   "execution_count": null,
   "metadata": {},
   "outputs": [
    {
     "name": "stderr",
     "output_type": "stream",
     "text": [
      "/opt/anaconda3/envs/DS340W/lib/python3.10/site-packages/xgboost/core.py:158: UserWarning:\n",
      "\n",
      "[17:40:03] WARNING: /Users/runner/work/xgboost/xgboost/src/learner.cc:740: \n",
      "Parameters: { \"use_label_encoder\" } are not used.\n",
      "\n",
      "\n",
      "/opt/anaconda3/envs/DS340W/lib/python3.10/site-packages/sklearn/ensemble/_weight_boosting.py:527: FutureWarning:\n",
      "\n",
      "The SAMME.R algorithm (the default) is deprecated and will be removed in 1.6. Use the SAMME algorithm to circumvent this warning.\n",
      "\n"
     ]
    },
    {
     "data": {
      "text/html": [
       "<style>#sk-container-id-8 {\n",
       "  /* Definition of color scheme common for light and dark mode */\n",
       "  --sklearn-color-text: black;\n",
       "  --sklearn-color-line: gray;\n",
       "  /* Definition of color scheme for unfitted estimators */\n",
       "  --sklearn-color-unfitted-level-0: #fff5e6;\n",
       "  --sklearn-color-unfitted-level-1: #f6e4d2;\n",
       "  --sklearn-color-unfitted-level-2: #ffe0b3;\n",
       "  --sklearn-color-unfitted-level-3: chocolate;\n",
       "  /* Definition of color scheme for fitted estimators */\n",
       "  --sklearn-color-fitted-level-0: #f0f8ff;\n",
       "  --sklearn-color-fitted-level-1: #d4ebff;\n",
       "  --sklearn-color-fitted-level-2: #b3dbfd;\n",
       "  --sklearn-color-fitted-level-3: cornflowerblue;\n",
       "\n",
       "  /* Specific color for light theme */\n",
       "  --sklearn-color-text-on-default-background: var(--sg-text-color, var(--theme-code-foreground, var(--jp-content-font-color1, black)));\n",
       "  --sklearn-color-background: var(--sg-background-color, var(--theme-background, var(--jp-layout-color0, white)));\n",
       "  --sklearn-color-border-box: var(--sg-text-color, var(--theme-code-foreground, var(--jp-content-font-color1, black)));\n",
       "  --sklearn-color-icon: #696969;\n",
       "\n",
       "  @media (prefers-color-scheme: dark) {\n",
       "    /* Redefinition of color scheme for dark theme */\n",
       "    --sklearn-color-text-on-default-background: var(--sg-text-color, var(--theme-code-foreground, var(--jp-content-font-color1, white)));\n",
       "    --sklearn-color-background: var(--sg-background-color, var(--theme-background, var(--jp-layout-color0, #111)));\n",
       "    --sklearn-color-border-box: var(--sg-text-color, var(--theme-code-foreground, var(--jp-content-font-color1, white)));\n",
       "    --sklearn-color-icon: #878787;\n",
       "  }\n",
       "}\n",
       "\n",
       "#sk-container-id-8 {\n",
       "  color: var(--sklearn-color-text);\n",
       "}\n",
       "\n",
       "#sk-container-id-8 pre {\n",
       "  padding: 0;\n",
       "}\n",
       "\n",
       "#sk-container-id-8 input.sk-hidden--visually {\n",
       "  border: 0;\n",
       "  clip: rect(1px 1px 1px 1px);\n",
       "  clip: rect(1px, 1px, 1px, 1px);\n",
       "  height: 1px;\n",
       "  margin: -1px;\n",
       "  overflow: hidden;\n",
       "  padding: 0;\n",
       "  position: absolute;\n",
       "  width: 1px;\n",
       "}\n",
       "\n",
       "#sk-container-id-8 div.sk-dashed-wrapped {\n",
       "  border: 1px dashed var(--sklearn-color-line);\n",
       "  margin: 0 0.4em 0.5em 0.4em;\n",
       "  box-sizing: border-box;\n",
       "  padding-bottom: 0.4em;\n",
       "  background-color: var(--sklearn-color-background);\n",
       "}\n",
       "\n",
       "#sk-container-id-8 div.sk-container {\n",
       "  /* jupyter's `normalize.less` sets `[hidden] { display: none; }`\n",
       "     but bootstrap.min.css set `[hidden] { display: none !important; }`\n",
       "     so we also need the `!important` here to be able to override the\n",
       "     default hidden behavior on the sphinx rendered scikit-learn.org.\n",
       "     See: https://github.com/scikit-learn/scikit-learn/issues/21755 */\n",
       "  display: inline-block !important;\n",
       "  position: relative;\n",
       "}\n",
       "\n",
       "#sk-container-id-8 div.sk-text-repr-fallback {\n",
       "  display: none;\n",
       "}\n",
       "\n",
       "div.sk-parallel-item,\n",
       "div.sk-serial,\n",
       "div.sk-item {\n",
       "  /* draw centered vertical line to link estimators */\n",
       "  background-image: linear-gradient(var(--sklearn-color-text-on-default-background), var(--sklearn-color-text-on-default-background));\n",
       "  background-size: 2px 100%;\n",
       "  background-repeat: no-repeat;\n",
       "  background-position: center center;\n",
       "}\n",
       "\n",
       "/* Parallel-specific style estimator block */\n",
       "\n",
       "#sk-container-id-8 div.sk-parallel-item::after {\n",
       "  content: \"\";\n",
       "  width: 100%;\n",
       "  border-bottom: 2px solid var(--sklearn-color-text-on-default-background);\n",
       "  flex-grow: 1;\n",
       "}\n",
       "\n",
       "#sk-container-id-8 div.sk-parallel {\n",
       "  display: flex;\n",
       "  align-items: stretch;\n",
       "  justify-content: center;\n",
       "  background-color: var(--sklearn-color-background);\n",
       "  position: relative;\n",
       "}\n",
       "\n",
       "#sk-container-id-8 div.sk-parallel-item {\n",
       "  display: flex;\n",
       "  flex-direction: column;\n",
       "}\n",
       "\n",
       "#sk-container-id-8 div.sk-parallel-item:first-child::after {\n",
       "  align-self: flex-end;\n",
       "  width: 50%;\n",
       "}\n",
       "\n",
       "#sk-container-id-8 div.sk-parallel-item:last-child::after {\n",
       "  align-self: flex-start;\n",
       "  width: 50%;\n",
       "}\n",
       "\n",
       "#sk-container-id-8 div.sk-parallel-item:only-child::after {\n",
       "  width: 0;\n",
       "}\n",
       "\n",
       "/* Serial-specific style estimator block */\n",
       "\n",
       "#sk-container-id-8 div.sk-serial {\n",
       "  display: flex;\n",
       "  flex-direction: column;\n",
       "  align-items: center;\n",
       "  background-color: var(--sklearn-color-background);\n",
       "  padding-right: 1em;\n",
       "  padding-left: 1em;\n",
       "}\n",
       "\n",
       "\n",
       "/* Toggleable style: style used for estimator/Pipeline/ColumnTransformer box that is\n",
       "clickable and can be expanded/collapsed.\n",
       "- Pipeline and ColumnTransformer use this feature and define the default style\n",
       "- Estimators will overwrite some part of the style using the `sk-estimator` class\n",
       "*/\n",
       "\n",
       "/* Pipeline and ColumnTransformer style (default) */\n",
       "\n",
       "#sk-container-id-8 div.sk-toggleable {\n",
       "  /* Default theme specific background. It is overwritten whether we have a\n",
       "  specific estimator or a Pipeline/ColumnTransformer */\n",
       "  background-color: var(--sklearn-color-background);\n",
       "}\n",
       "\n",
       "/* Toggleable label */\n",
       "#sk-container-id-8 label.sk-toggleable__label {\n",
       "  cursor: pointer;\n",
       "  display: block;\n",
       "  width: 100%;\n",
       "  margin-bottom: 0;\n",
       "  padding: 0.5em;\n",
       "  box-sizing: border-box;\n",
       "  text-align: center;\n",
       "}\n",
       "\n",
       "#sk-container-id-8 label.sk-toggleable__label-arrow:before {\n",
       "  /* Arrow on the left of the label */\n",
       "  content: \"▸\";\n",
       "  float: left;\n",
       "  margin-right: 0.25em;\n",
       "  color: var(--sklearn-color-icon);\n",
       "}\n",
       "\n",
       "#sk-container-id-8 label.sk-toggleable__label-arrow:hover:before {\n",
       "  color: var(--sklearn-color-text);\n",
       "}\n",
       "\n",
       "/* Toggleable content - dropdown */\n",
       "\n",
       "#sk-container-id-8 div.sk-toggleable__content {\n",
       "  max-height: 0;\n",
       "  max-width: 0;\n",
       "  overflow: hidden;\n",
       "  text-align: left;\n",
       "  /* unfitted */\n",
       "  background-color: var(--sklearn-color-unfitted-level-0);\n",
       "}\n",
       "\n",
       "#sk-container-id-8 div.sk-toggleable__content.fitted {\n",
       "  /* fitted */\n",
       "  background-color: var(--sklearn-color-fitted-level-0);\n",
       "}\n",
       "\n",
       "#sk-container-id-8 div.sk-toggleable__content pre {\n",
       "  margin: 0.2em;\n",
       "  border-radius: 0.25em;\n",
       "  color: var(--sklearn-color-text);\n",
       "  /* unfitted */\n",
       "  background-color: var(--sklearn-color-unfitted-level-0);\n",
       "}\n",
       "\n",
       "#sk-container-id-8 div.sk-toggleable__content.fitted pre {\n",
       "  /* unfitted */\n",
       "  background-color: var(--sklearn-color-fitted-level-0);\n",
       "}\n",
       "\n",
       "#sk-container-id-8 input.sk-toggleable__control:checked~div.sk-toggleable__content {\n",
       "  /* Expand drop-down */\n",
       "  max-height: 200px;\n",
       "  max-width: 100%;\n",
       "  overflow: auto;\n",
       "}\n",
       "\n",
       "#sk-container-id-8 input.sk-toggleable__control:checked~label.sk-toggleable__label-arrow:before {\n",
       "  content: \"▾\";\n",
       "}\n",
       "\n",
       "/* Pipeline/ColumnTransformer-specific style */\n",
       "\n",
       "#sk-container-id-8 div.sk-label input.sk-toggleable__control:checked~label.sk-toggleable__label {\n",
       "  color: var(--sklearn-color-text);\n",
       "  background-color: var(--sklearn-color-unfitted-level-2);\n",
       "}\n",
       "\n",
       "#sk-container-id-8 div.sk-label.fitted input.sk-toggleable__control:checked~label.sk-toggleable__label {\n",
       "  background-color: var(--sklearn-color-fitted-level-2);\n",
       "}\n",
       "\n",
       "/* Estimator-specific style */\n",
       "\n",
       "/* Colorize estimator box */\n",
       "#sk-container-id-8 div.sk-estimator input.sk-toggleable__control:checked~label.sk-toggleable__label {\n",
       "  /* unfitted */\n",
       "  background-color: var(--sklearn-color-unfitted-level-2);\n",
       "}\n",
       "\n",
       "#sk-container-id-8 div.sk-estimator.fitted input.sk-toggleable__control:checked~label.sk-toggleable__label {\n",
       "  /* fitted */\n",
       "  background-color: var(--sklearn-color-fitted-level-2);\n",
       "}\n",
       "\n",
       "#sk-container-id-8 div.sk-label label.sk-toggleable__label,\n",
       "#sk-container-id-8 div.sk-label label {\n",
       "  /* The background is the default theme color */\n",
       "  color: var(--sklearn-color-text-on-default-background);\n",
       "}\n",
       "\n",
       "/* On hover, darken the color of the background */\n",
       "#sk-container-id-8 div.sk-label:hover label.sk-toggleable__label {\n",
       "  color: var(--sklearn-color-text);\n",
       "  background-color: var(--sklearn-color-unfitted-level-2);\n",
       "}\n",
       "\n",
       "/* Label box, darken color on hover, fitted */\n",
       "#sk-container-id-8 div.sk-label.fitted:hover label.sk-toggleable__label.fitted {\n",
       "  color: var(--sklearn-color-text);\n",
       "  background-color: var(--sklearn-color-fitted-level-2);\n",
       "}\n",
       "\n",
       "/* Estimator label */\n",
       "\n",
       "#sk-container-id-8 div.sk-label label {\n",
       "  font-family: monospace;\n",
       "  font-weight: bold;\n",
       "  display: inline-block;\n",
       "  line-height: 1.2em;\n",
       "}\n",
       "\n",
       "#sk-container-id-8 div.sk-label-container {\n",
       "  text-align: center;\n",
       "}\n",
       "\n",
       "/* Estimator-specific */\n",
       "#sk-container-id-8 div.sk-estimator {\n",
       "  font-family: monospace;\n",
       "  border: 1px dotted var(--sklearn-color-border-box);\n",
       "  border-radius: 0.25em;\n",
       "  box-sizing: border-box;\n",
       "  margin-bottom: 0.5em;\n",
       "  /* unfitted */\n",
       "  background-color: var(--sklearn-color-unfitted-level-0);\n",
       "}\n",
       "\n",
       "#sk-container-id-8 div.sk-estimator.fitted {\n",
       "  /* fitted */\n",
       "  background-color: var(--sklearn-color-fitted-level-0);\n",
       "}\n",
       "\n",
       "/* on hover */\n",
       "#sk-container-id-8 div.sk-estimator:hover {\n",
       "  /* unfitted */\n",
       "  background-color: var(--sklearn-color-unfitted-level-2);\n",
       "}\n",
       "\n",
       "#sk-container-id-8 div.sk-estimator.fitted:hover {\n",
       "  /* fitted */\n",
       "  background-color: var(--sklearn-color-fitted-level-2);\n",
       "}\n",
       "\n",
       "/* Specification for estimator info (e.g. \"i\" and \"?\") */\n",
       "\n",
       "/* Common style for \"i\" and \"?\" */\n",
       "\n",
       ".sk-estimator-doc-link,\n",
       "a:link.sk-estimator-doc-link,\n",
       "a:visited.sk-estimator-doc-link {\n",
       "  float: right;\n",
       "  font-size: smaller;\n",
       "  line-height: 1em;\n",
       "  font-family: monospace;\n",
       "  background-color: var(--sklearn-color-background);\n",
       "  border-radius: 1em;\n",
       "  height: 1em;\n",
       "  width: 1em;\n",
       "  text-decoration: none !important;\n",
       "  margin-left: 1ex;\n",
       "  /* unfitted */\n",
       "  border: var(--sklearn-color-unfitted-level-1) 1pt solid;\n",
       "  color: var(--sklearn-color-unfitted-level-1);\n",
       "}\n",
       "\n",
       ".sk-estimator-doc-link.fitted,\n",
       "a:link.sk-estimator-doc-link.fitted,\n",
       "a:visited.sk-estimator-doc-link.fitted {\n",
       "  /* fitted */\n",
       "  border: var(--sklearn-color-fitted-level-1) 1pt solid;\n",
       "  color: var(--sklearn-color-fitted-level-1);\n",
       "}\n",
       "\n",
       "/* On hover */\n",
       "div.sk-estimator:hover .sk-estimator-doc-link:hover,\n",
       ".sk-estimator-doc-link:hover,\n",
       "div.sk-label-container:hover .sk-estimator-doc-link:hover,\n",
       ".sk-estimator-doc-link:hover {\n",
       "  /* unfitted */\n",
       "  background-color: var(--sklearn-color-unfitted-level-3);\n",
       "  color: var(--sklearn-color-background);\n",
       "  text-decoration: none;\n",
       "}\n",
       "\n",
       "div.sk-estimator.fitted:hover .sk-estimator-doc-link.fitted:hover,\n",
       ".sk-estimator-doc-link.fitted:hover,\n",
       "div.sk-label-container:hover .sk-estimator-doc-link.fitted:hover,\n",
       ".sk-estimator-doc-link.fitted:hover {\n",
       "  /* fitted */\n",
       "  background-color: var(--sklearn-color-fitted-level-3);\n",
       "  color: var(--sklearn-color-background);\n",
       "  text-decoration: none;\n",
       "}\n",
       "\n",
       "/* Span, style for the box shown on hovering the info icon */\n",
       ".sk-estimator-doc-link span {\n",
       "  display: none;\n",
       "  z-index: 9999;\n",
       "  position: relative;\n",
       "  font-weight: normal;\n",
       "  right: .2ex;\n",
       "  padding: .5ex;\n",
       "  margin: .5ex;\n",
       "  width: min-content;\n",
       "  min-width: 20ex;\n",
       "  max-width: 50ex;\n",
       "  color: var(--sklearn-color-text);\n",
       "  box-shadow: 2pt 2pt 4pt #999;\n",
       "  /* unfitted */\n",
       "  background: var(--sklearn-color-unfitted-level-0);\n",
       "  border: .5pt solid var(--sklearn-color-unfitted-level-3);\n",
       "}\n",
       "\n",
       ".sk-estimator-doc-link.fitted span {\n",
       "  /* fitted */\n",
       "  background: var(--sklearn-color-fitted-level-0);\n",
       "  border: var(--sklearn-color-fitted-level-3);\n",
       "}\n",
       "\n",
       ".sk-estimator-doc-link:hover span {\n",
       "  display: block;\n",
       "}\n",
       "\n",
       "/* \"?\"-specific style due to the `<a>` HTML tag */\n",
       "\n",
       "#sk-container-id-8 a.estimator_doc_link {\n",
       "  float: right;\n",
       "  font-size: 1rem;\n",
       "  line-height: 1em;\n",
       "  font-family: monospace;\n",
       "  background-color: var(--sklearn-color-background);\n",
       "  border-radius: 1rem;\n",
       "  height: 1rem;\n",
       "  width: 1rem;\n",
       "  text-decoration: none;\n",
       "  /* unfitted */\n",
       "  color: var(--sklearn-color-unfitted-level-1);\n",
       "  border: var(--sklearn-color-unfitted-level-1) 1pt solid;\n",
       "}\n",
       "\n",
       "#sk-container-id-8 a.estimator_doc_link.fitted {\n",
       "  /* fitted */\n",
       "  border: var(--sklearn-color-fitted-level-1) 1pt solid;\n",
       "  color: var(--sklearn-color-fitted-level-1);\n",
       "}\n",
       "\n",
       "/* On hover */\n",
       "#sk-container-id-8 a.estimator_doc_link:hover {\n",
       "  /* unfitted */\n",
       "  background-color: var(--sklearn-color-unfitted-level-3);\n",
       "  color: var(--sklearn-color-background);\n",
       "  text-decoration: none;\n",
       "}\n",
       "\n",
       "#sk-container-id-8 a.estimator_doc_link.fitted:hover {\n",
       "  /* fitted */\n",
       "  background-color: var(--sklearn-color-fitted-level-3);\n",
       "}\n",
       "</style><div id=\"sk-container-id-8\" class=\"sk-top-container\"><div class=\"sk-text-repr-fallback\"><pre>AdaBoostClassifier(estimator=DecisionTreeClassifier())</pre><b>In a Jupyter environment, please rerun this cell to show the HTML representation or trust the notebook. <br />On GitHub, the HTML representation is unable to render, please try loading this page with nbviewer.org.</b></div><div class=\"sk-container\" hidden><div class=\"sk-item sk-dashed-wrapped\"><div class=\"sk-label-container\"><div class=\"sk-label fitted sk-toggleable\"><input class=\"sk-toggleable__control sk-hidden--visually\" id=\"sk-estimator-id-22\" type=\"checkbox\" ><label for=\"sk-estimator-id-22\" class=\"sk-toggleable__label fitted sk-toggleable__label-arrow fitted\">&nbsp;&nbsp;AdaBoostClassifier<a class=\"sk-estimator-doc-link fitted\" rel=\"noreferrer\" target=\"_blank\" href=\"https://scikit-learn.org/1.5/modules/generated/sklearn.ensemble.AdaBoostClassifier.html\">?<span>Documentation for AdaBoostClassifier</span></a><span class=\"sk-estimator-doc-link fitted\">i<span>Fitted</span></span></label><div class=\"sk-toggleable__content fitted\"><pre>AdaBoostClassifier(estimator=DecisionTreeClassifier())</pre></div> </div></div><div class=\"sk-parallel\"><div class=\"sk-parallel-item\"><div class=\"sk-item\"><div class=\"sk-label-container\"><div class=\"sk-label fitted sk-toggleable\"><input class=\"sk-toggleable__control sk-hidden--visually\" id=\"sk-estimator-id-23\" type=\"checkbox\" ><label for=\"sk-estimator-id-23\" class=\"sk-toggleable__label fitted sk-toggleable__label-arrow fitted\">estimator: DecisionTreeClassifier</label><div class=\"sk-toggleable__content fitted\"><pre>DecisionTreeClassifier()</pre></div> </div></div><div class=\"sk-serial\"><div class=\"sk-item\"><div class=\"sk-estimator fitted sk-toggleable\"><input class=\"sk-toggleable__control sk-hidden--visually\" id=\"sk-estimator-id-24\" type=\"checkbox\" ><label for=\"sk-estimator-id-24\" class=\"sk-toggleable__label fitted sk-toggleable__label-arrow fitted\">&nbsp;DecisionTreeClassifier<a class=\"sk-estimator-doc-link fitted\" rel=\"noreferrer\" target=\"_blank\" href=\"https://scikit-learn.org/1.5/modules/generated/sklearn.tree.DecisionTreeClassifier.html\">?<span>Documentation for DecisionTreeClassifier</span></a></label><div class=\"sk-toggleable__content fitted\"><pre>DecisionTreeClassifier()</pre></div> </div></div></div></div></div></div></div></div></div>"
      ],
      "text/plain": [
       "AdaBoostClassifier(estimator=DecisionTreeClassifier())"
      ]
     },
     "execution_count": 68,
     "metadata": {},
     "output_type": "execute_result"
    }
   ],
   "source": [
    "# Random Forest\n",
    "clf_rand_forest_OOD = RandomForestClassifier()\n",
    "clf_rand_forest_OOD.fit(X_train_OOD, Y_train_OOD)\n",
    "\n",
    "# SVM\n",
    "clf_svm_OOD = svm.SVC(kernel = 'linear')\n",
    "clf_svm_OOD.fit(X_train_OOD, Y_train_OOD)\n",
    "\n",
    "# Naive Bayes\n",
    "clf_gnb_OOD = GaussianNB()\n",
    "clf_gnb_OOD.fit(X_train_OOD, Y_train_OOD)\n",
    "\n",
    "# Logistic Regression\n",
    "clf_log_OOD = LogisticRegression(solver = 'lbfgs', max_iter = 2500)\n",
    "clf_log_OOD.fit(X_train_OOD, Y_train_OOD)\n",
    "\n",
    "# KNN\n",
    "clf_knn_OOD = KNeighborsClassifier(n_neighbors = 5)\n",
    "clf_knn_OOD.fit(X_train_OOD, Y_train_OOD)\n",
    "\n",
    "# XG Boost\n",
    "clf_xgb_OOD = XGBClassifier(objective = 'multi:softmax', \n",
    "                        learning_rate = 0.5, \n",
    "                        max_depth = 5, \n",
    "                        n_estimators = 150, \n",
    "                        eval_metric = 'mlogloss',  \n",
    "                        use_label_encoder = False)\n",
    "clf_xgb_OOD.fit(X_train_OOD, Y_train_OOD)\n",
    "\n",
    "# Decision Tree\n",
    "clf_dtc_OOD = DecisionTreeClassifier()\n",
    "clf_dtc_OOD.fit(X_train_OOD, Y_train_OOD)\n",
    "\n",
    "# Ada Boost\n",
    "clf_ada_OOD = AdaBoostClassifier(estimator = clf_dtc_OOD)\n",
    "clf_ada_OOD.fit(X_train_OOD, Y_train_OOD)"
   ]
  },
  {
   "cell_type": "code",
   "execution_count": null,
   "metadata": {},
   "outputs": [
    {
     "name": "stdout",
     "output_type": "stream",
     "text": [
      "Epoch 1, Training Loss: 4.969335079193115\n",
      "Epoch 2, Training Loss: 3.27628231048584\n",
      "Epoch 3, Training Loss: 2.266505002975464\n",
      "Epoch 4, Training Loss: 5.402969837188721\n",
      "Epoch 5, Training Loss: 1.394046425819397\n",
      "Epoch 6, Training Loss: 1.9518264532089233\n",
      "Epoch 7, Training Loss: 1.4970377683639526\n",
      "Epoch 8, Training Loss: 2.0812227725982666\n",
      "Epoch 9, Training Loss: 1.5215034484863281\n",
      "Epoch 10, Training Loss: 1.9377039670944214\n",
      "Epoch 11, Training Loss: 1.650598406791687\n",
      "Epoch 12, Training Loss: 1.6082053184509277\n",
      "Epoch 13, Training Loss: 1.5749398469924927\n",
      "Epoch 14, Training Loss: 1.6777690649032593\n",
      "Epoch 15, Training Loss: 1.605604648590088\n",
      "Epoch 16, Training Loss: 1.6262391805648804\n",
      "Epoch 17, Training Loss: 1.6584818363189697\n",
      "Epoch 18, Training Loss: 1.621558427810669\n",
      "Epoch 19, Training Loss: 1.6205121278762817\n",
      "Epoch 20, Training Loss: 1.6339446306228638\n",
      "Best Epoch: 13\n",
      "Best Validation Loss: 1.5732510638686845\n"
     ]
    }
   ],
   "source": [
    "# Model Architecture\n",
    "class BayesianNeuralNetwork(nn.Module):\n",
    "    def __init__(self, feature_size, num_classes, layer_1_size, layer_2_size, layer_3_size):\n",
    "        super().__init__()\n",
    "        prior_mean = 0\n",
    "        prior_variance = 1\n",
    "\n",
    "        # Layers\n",
    "        self.bayes_linear_1 = bnn.BayesLinear(prior_mu = prior_mean, prior_sigma = prior_variance, in_features = feature_size, out_features = layer_1_size)\n",
    "        self.bayes_linear_2 = bnn.BayesLinear(prior_mu = prior_mean, prior_sigma = prior_variance, in_features = layer_1_size, out_features = layer_2_size)\n",
    "        self.bayes_linear_3 = bnn.BayesLinear(prior_mu = prior_mean, prior_sigma = prior_variance, in_features = layer_2_size, out_features = layer_3_size)\n",
    "\n",
    "        self.output_layer = nn.Linear(in_features = layer_3_size, out_features = num_classes)\n",
    "    \n",
    "    def forward(self, x):\n",
    "        x = torch.relu(self.bayes_linear_1(x))\n",
    "        x = torch.relu(self.bayes_linear_2(x))\n",
    "        x = torch.relu(self.bayes_linear_3(x))\n",
    "\n",
    "        logits = self.output_layer(x)\n",
    "        #probabilities = torch.softmax(logits, dim=-1)\n",
    "        return logits\n",
    "    \n",
    "    def predict(self, x, num_samples = 1000):\n",
    "        self.eval()\n",
    "        outputs = []\n",
    "\n",
    "        with torch.no_grad():\n",
    "            for i in range(num_samples):\n",
    "                output_sample = self(x)\n",
    "                output_prob = torch.softmax(output_sample, dim = 1)\n",
    "                outputs.append(output_prob)\n",
    "\n",
    "        outputs = torch.stack(outputs).numpy()\n",
    "\n",
    "        # Class prediction\n",
    "        mean_output = np.mean(outputs, axis = 0)\n",
    "        predicted_classes = np.argmax(mean_output, axis = 1)\n",
    "\n",
    "        # Uncertainty estimation\n",
    "        epistemic_uncertainty = np.var(outputs, axis = 0)\n",
    "        mean_epistemic_uncertainty = np.mean(epistemic_uncertainty)\n",
    "\n",
    "        # Credible Intervals\n",
    "        lower_bound = np.percentile(outputs, 2.5, axis = 0)\n",
    "        upper_bound = np.percentile(outputs, 97.5, axis = 0)\n",
    "        credible_intervals = np.stack((lower_bound, upper_bound), axis = 1)\n",
    "\n",
    "        lower_bounds = credible_intervals[:, :, 0]\n",
    "        upper_bounds = credible_intervals[:, :, 1]\n",
    "\n",
    "        # Global Credible Interval\n",
    "        global_lower_bound = float(np.min(lower_bounds))\n",
    "        global_upper_bound = float(np.max(upper_bounds))\n",
    "        global_credible_interval = (global_lower_bound, global_upper_bound)\n",
    "\n",
    "        return predicted_classes, mean_epistemic_uncertainty, global_credible_interval \n",
    "    \n",
    "\n",
    "# Loss Function\n",
    "def elbo_loss(output, target, model, lam):\n",
    "    standard_loss = nn.CrossEntropyLoss()(output, target)\n",
    "    # The BKLLoss function automatically predfines the variational distribution as a normal distribution\n",
    "    kl_loss = bnn.BKLLoss(reduction = 'mean', last_layer_only = False)\n",
    "\n",
    "    return standard_loss + (kl_loss(model) * lam)\n",
    "\n",
    "def train(model, train_loader, val_loader, optimizer, scheduler, epochs = 5):\n",
    "    best_val_loss = float('inf')\n",
    "    best_model_state = None\n",
    "    best_epoch = None\n",
    "    lam_weight = 10\n",
    "\n",
    "    model.train()\n",
    "    for epoch in range(epochs):\n",
    "        for data, target in train_loader:\n",
    "            optimizer.zero_grad()\n",
    "            output = model(data)\n",
    "            loss = elbo_loss(output, target, model, lam_weight)\n",
    "            loss.backward()\n",
    "            optimizer.step()\n",
    "\n",
    "        scheduler.step()    \n",
    "        print(f\"Epoch {epoch + 1}, Training Loss: {loss.item()}\")\n",
    "        \n",
    "        model.eval()\n",
    "        val_loss = 0.0\n",
    "        with torch.no_grad():\n",
    "            for data, target in val_loader:\n",
    "                output = model(data)\n",
    "                val_loss += elbo_loss(output, target, model, lam_weight).item()\n",
    "\n",
    "        val_loss = (val_loss / len(val_loader))\n",
    "\n",
    "        if val_loss < best_val_loss:\n",
    "            best_epoch = epoch\n",
    "            best_val_loss = val_loss\n",
    "            best_model_state = model.state_dict()\n",
    "\n",
    "    print(f\"Best Epoch: {best_epoch}\")\n",
    "    print(f\"Best Validation Loss: {best_val_loss}\")\n",
    "    return best_model_state\n",
    "\n",
    "\n",
    "# Reformat the training set\n",
    "X_train_tensor_OOD = torch.tensor(X_train_OOD.values).float()\n",
    "Y_train_tensor_OOD = torch.tensor(pd.Series(Y_train_OOD).values).long()\n",
    "\n",
    "dataset = TensorDataset(X_train_tensor_OOD, Y_train_tensor_OOD)\n",
    "train_loader = DataLoader(dataset, batch_size = 32, shuffle = True)\n",
    "\n",
    "# Reformat the validation set\n",
    "X_val_tensor_OOD = torch.tensor(X_val_OOD.values).float()\n",
    "Y_val_tensor_OOD = torch.tensor(pd.Series(Y_val_OOD).values).long()\n",
    "\n",
    "dataset = TensorDataset(X_val_tensor_OOD, Y_val_tensor_OOD)\n",
    "val_loader = DataLoader(dataset, batch_size = 32, shuffle = True)\n",
    "\n",
    "model = BayesianNeuralNetwork(feature_size = X_train_OOD.shape[1], num_classes = len(torch.unique(Y_train_tensor_OOD)), layer_1_size = 128, layer_2_size = 128, layer_3_size = 128)\n",
    "optimizer = optim.Adam(model.parameters(), lr = 0.001)\n",
    "scheduler = StepLR(optimizer, step_size = 2, gamma = 0.5)\n",
    "best_model_state = train(model, train_loader, val_loader, optimizer, scheduler, 20)"
   ]
  },
  {
   "cell_type": "code",
   "execution_count": null,
   "metadata": {},
   "outputs": [
    {
     "name": "stdout",
     "output_type": "stream",
     "text": [
      "Accuracy: 0.2752185211433971\n",
      "Mean Absolute Error: 2.56177651783605\n",
      "Mean Squared Error: 9.569572407276164\n",
      "Epistemic Uncertainty: 0.00021594541613012552\n",
      "Global Credible Interval: (0.17417077720165253, 0.22349271178245544)\n",
      "Classification Report: \n",
      "              precision    recall  f1-score   support\n",
      "\n",
      "           0       1.00      0.00      0.00      4252\n",
      "           1       1.00      0.00      0.00      1356\n",
      "           2       1.00      0.00      0.00        84\n",
      "           3       1.00      0.00      0.00       444\n",
      "           4       0.28      1.00      0.43      2330\n",
      "\n",
      "    accuracy                           0.28      8466\n",
      "   macro avg       0.86      0.20      0.09      8466\n",
      "weighted avg       0.80      0.28      0.12      8466\n",
      "\n"
     ]
    }
   ],
   "source": [
    "X_test_tensor_OOD = torch.tensor(X_test_OOD.values).float()\n",
    "\n",
    "model.load_state_dict(best_model_state)\n",
    "model.eval()\n",
    "\n",
    "predicted_classes, epistemic_uncertainty, global_credible_interval = model.predict(X_test_tensor_OOD, num_samples = 2500)\n",
    "\n",
    "bnn_acc_OOD = accuracy_score(Y_test_OOD, predicted_classes)\n",
    "\n",
    "print(f\"Accuracy: {bnn_acc_OOD}\")\n",
    "print(f\"Precision: {precision_score(Y_test_OOD, predicted_classes, average = 'weighted')}\")\n",
    "print(f\"Recall: {recall_score(Y_test_OOD, predicted_classes, average = 'weighted')}\")\n",
    "print(f\"F1-Score: {f1_score(Y_test_OOD, predicted_classes, average = 'weighted')}\")\n",
    "print(f\"Mean Absolute Error: {mean_absolute_error(Y_test_OOD, predicted_classes)}\")\n",
    "print(f\"Mean Squared Error: {mean_squared_error(Y_test_OOD, predicted_classes)}\")\n",
    "print(f\"Epistemic Uncertainty: {epistemic_uncertainty}\")\n",
    "print(f\"Global Credible Interval: {global_credible_interval}\")\n",
    "print(f\"Classification Report: \\n{classification_report(Y_test_OOD, predicted_classes, zero_division = 1)}\")"
   ]
  },
  {
   "cell_type": "markdown",
   "metadata": {},
   "source": [
    "# Evaluation"
   ]
  },
  {
   "cell_type": "markdown",
   "metadata": {},
   "source": [
    "### Random Forest"
   ]
  },
  {
   "cell_type": "markdown",
   "metadata": {},
   "source": [
    "In-Distribution"
   ]
  },
  {
   "cell_type": "code",
   "execution_count": null,
   "metadata": {},
   "outputs": [
    {
     "name": "stdout",
     "output_type": "stream",
     "text": [
      "Accuracy: 0.833822091886608\n",
      "Precision: 0.8658385596509764\n",
      "Recall: 0.833822091886608\n",
      "F1-Score: 0.8421835415321994\n",
      "Mean Absolute Error: 0.33773216031280545\n",
      "Mean Squared Error: 0.8851417399804496\n",
      "Classification Report: \n",
      "              precision    recall  f1-score   support\n",
      "\n",
      "           0       0.93      0.78      0.85      1649\n",
      "           1       0.71      0.89      0.79       558\n",
      "           2       0.59      0.84      0.69       189\n",
      "           3       0.45      0.78      0.57       198\n",
      "           4       0.94      0.88      0.91      1498\n",
      "\n",
      "    accuracy                           0.83      4092\n",
      "   macro avg       0.72      0.83      0.76      4092\n",
      "weighted avg       0.87      0.83      0.84      4092\n",
      "\n"
     ]
    }
   ],
   "source": [
    "Y_pred = clf_rand_forest.predict(X_test)\n",
    "\n",
    "rand_forest_acc = accuracy_score(Y_test, Y_pred)\n",
    "\n",
    "print(f\"Accuracy: {rand_forest_acc}\")\n",
    "print(f\"Precision: {precision_score(Y_test, Y_pred, average = 'weighted')}\")\n",
    "print(f\"Recall: {recall_score(Y_test, Y_pred, average = 'weighted')}\")\n",
    "print(f\"F1-Score: {f1_score(Y_test, Y_pred, average = 'weighted')}\")\n",
    "print(f\"Mean Absolute Error: {mean_absolute_error(Y_test, Y_pred)}\")\n",
    "print(f\"Mean Squared Error: {mean_squared_error(Y_test, Y_pred)}\")\n",
    "print(f\"Classification Report: \\n{classification_report(Y_test, Y_pred, zero_division = 1)}\")"
   ]
  },
  {
   "cell_type": "markdown",
   "metadata": {},
   "source": [
    "Out-of-Distribution"
   ]
  },
  {
   "cell_type": "code",
   "execution_count": null,
   "metadata": {},
   "outputs": [
    {
     "name": "stdout",
     "output_type": "stream",
     "text": [
      "Accuracy: 0.844318450271675\n",
      "Mean Absolute Error: 0.3798724309000709\n",
      "Mean Squared Error: 1.2135601228443185\n",
      "Classification Report: \n",
      "              precision    recall  f1-score   support\n",
      "\n",
      "           0       0.89      0.86      0.87      4252\n",
      "           1       0.84      0.83      0.83      1356\n",
      "           2       0.44      0.74      0.55        84\n",
      "           3       0.75      0.52      0.61       444\n",
      "           4       0.81      0.89      0.85      2330\n",
      "\n",
      "    accuracy                           0.84      8466\n",
      "   macro avg       0.75      0.77      0.74      8466\n",
      "weighted avg       0.85      0.84      0.84      8466\n",
      "\n"
     ]
    }
   ],
   "source": [
    "Y_pred = clf_rand_forest_OOD.predict(X_test_OOD)\n",
    "\n",
    "rand_forest_acc_OOD = accuracy_score(Y_test_OOD, Y_pred)\n",
    "\n",
    "print(f\"Accuracy: {rand_forest_acc_OOD}\")\n",
    "print(f\"Precision: {precision_score(Y_test_OOD, Y_pred, average = 'weighted')}\")\n",
    "print(f\"Recall: {recall_score(Y_test_OOD, Y_pred, average = 'weighted')}\")\n",
    "print(f\"F1-Score: {f1_score(Y_test_OOD, Y_pred, average = 'weighted')}\")\n",
    "print(f\"Mean Absolute Error: {mean_absolute_error(Y_test_OOD, Y_pred)}\")\n",
    "print(f\"Mean Squared Error: {mean_squared_error(Y_test_OOD, Y_pred)}\")\n",
    "print(f\"Classification Report: \\n{classification_report(Y_test_OOD, Y_pred, zero_division = 1)}\")"
   ]
  },
  {
   "cell_type": "markdown",
   "metadata": {},
   "source": [
    "### SVM"
   ]
  },
  {
   "cell_type": "markdown",
   "metadata": {},
   "source": [
    "In-Distribution"
   ]
  },
  {
   "cell_type": "code",
   "execution_count": null,
   "metadata": {},
   "outputs": [
    {
     "name": "stdout",
     "output_type": "stream",
     "text": [
      "Accuracy: 0.8658357771260997\n",
      "Mean Absolute Error: 0.3069403714565005\n",
      "Mean Squared Error: 0.9090909090909091\n",
      "Classification Report: \n",
      "              precision    recall  f1-score   support\n",
      "\n",
      "           0       0.88      0.87      0.88      1649\n",
      "           1       0.81      0.85      0.83       558\n",
      "           2       0.72      0.80      0.76       189\n",
      "           3       0.64      0.70      0.67       198\n",
      "           4       0.92      0.90      0.91      1498\n",
      "\n",
      "    accuracy                           0.87      4092\n",
      "   macro avg       0.79      0.82      0.81      4092\n",
      "weighted avg       0.87      0.87      0.87      4092\n",
      "\n"
     ]
    }
   ],
   "source": [
    "Y_pred = clf_svm.predict(X_test)\n",
    "\n",
    "svm_acc = accuracy_score(Y_test, Y_pred)\n",
    "print(f\"Accuracy: {svm_acc}\")\n",
    "print(f\"Precision: {precision_score(Y_test, Y_pred, average = 'weighted')}\")\n",
    "print(f\"Recall: {recall_score(Y_test, Y_pred, average = 'weighted')}\")\n",
    "print(f\"F1-Score: {f1_score(Y_test, Y_pred, average = 'weighted')}\")\n",
    "print(f\"Mean Absolute Error: {mean_absolute_error(Y_test, Y_pred)}\")\n",
    "print(f\"Mean Squared Error: {mean_squared_error(Y_test, Y_pred)}\")\n",
    "print(f\"Classification Report: \\n{classification_report(Y_test, Y_pred, zero_division = 1)}\")"
   ]
  },
  {
   "cell_type": "markdown",
   "metadata": {},
   "source": [
    "Out-of-Distribution"
   ]
  },
  {
   "cell_type": "code",
   "execution_count": null,
   "metadata": {},
   "outputs": [
    {
     "name": "stdout",
     "output_type": "stream",
     "text": [
      "Accuracy: 0.8251830852823057\n",
      "Mean Absolute Error: 0.3922749822820695\n",
      "Mean Squared Error: 1.152492322230097\n",
      "Classification Report: \n",
      "              precision    recall  f1-score   support\n",
      "\n",
      "           0       0.88      0.84      0.86      4252\n",
      "           1       0.76      0.83      0.79      1356\n",
      "           2       0.25      0.69      0.37        84\n",
      "           3       0.60      0.62      0.61       444\n",
      "           4       0.88      0.84      0.86      2330\n",
      "\n",
      "    accuracy                           0.83      8466\n",
      "   macro avg       0.67      0.77      0.70      8466\n",
      "weighted avg       0.84      0.83      0.83      8466\n",
      "\n"
     ]
    }
   ],
   "source": [
    "Y_pred = clf_svm_OOD.predict(X_test_OOD)\n",
    "\n",
    "svm_acc_OOD = accuracy_score(Y_test_OOD, Y_pred)\n",
    "\n",
    "print(f\"Accuracy: {svm_acc_OOD}\")\n",
    "print(f\"Precision: {precision_score(Y_test_OOD, Y_pred, average = 'weighted')}\")\n",
    "print(f\"Recall: {recall_score(Y_test_OOD, Y_pred, average = 'weighted')}\")\n",
    "print(f\"F1-Score: {f1_score(Y_test_OOD, Y_pred, average = 'weighted')}\")\n",
    "print(f\"Mean Absolute Error: {mean_absolute_error(Y_test_OOD, Y_pred)}\")\n",
    "print(f\"Mean Squared Error: {mean_squared_error(Y_test_OOD, Y_pred)}\")\n",
    "print(f\"Classification Report: \\n{classification_report(Y_test_OOD, Y_pred, zero_division = 1)}\")"
   ]
  },
  {
   "cell_type": "markdown",
   "metadata": {},
   "source": [
    "### Naive Bayes"
   ]
  },
  {
   "cell_type": "markdown",
   "metadata": {},
   "source": [
    "In-Distribution"
   ]
  },
  {
   "cell_type": "code",
   "execution_count": null,
   "metadata": {
    "scrolled": true
   },
   "outputs": [
    {
     "name": "stdout",
     "output_type": "stream",
     "text": [
      "Accuracy: 0.3902737047898338\n",
      "Mean Absolute Error: 1.040078201368524\n",
      "Mean Squared Error: 2.4594330400782014\n",
      "Classification Report: \n",
      "              precision    recall  f1-score   support\n",
      "\n",
      "           0       0.71      0.33      0.45      1649\n",
      "           1       0.23      0.50      0.32       558\n",
      "           2       0.26      0.62      0.37       189\n",
      "           3       0.09      0.38      0.15       198\n",
      "           4       0.67      0.38      0.49      1498\n",
      "\n",
      "    accuracy                           0.39      4092\n",
      "   macro avg       0.39      0.45      0.36      4092\n",
      "weighted avg       0.58      0.39      0.43      4092\n",
      "\n"
     ]
    }
   ],
   "source": [
    "Y_pred = clf_gnb.predict(X_test)\n",
    "\n",
    "gnb_acc = accuracy_score(Y_test, Y_pred)\n",
    "print(f\"Accuracy: {gnb_acc}\")\n",
    "print(f\"Precision: {precision_score(Y_test, Y_pred, average = 'weighted')}\")\n",
    "print(f\"Recall: {recall_score(Y_test, Y_pred, average = 'weighted')}\")\n",
    "print(f\"F1-Score: {f1_score(Y_test, Y_pred, average = 'weighted')}\")\n",
    "print(f\"Mean Absolute Error: {mean_absolute_error(Y_test, Y_pred)}\")\n",
    "print(f\"Mean Squared Error: {mean_squared_error(Y_test, Y_pred)}\")\n",
    "print(f\"Classification Report: \\n{classification_report(Y_test, Y_pred, zero_division = 1)}\")"
   ]
  },
  {
   "cell_type": "markdown",
   "metadata": {},
   "source": [
    "Out-of-Distribution"
   ]
  },
  {
   "cell_type": "code",
   "execution_count": null,
   "metadata": {},
   "outputs": [
    {
     "name": "stdout",
     "output_type": "stream",
     "text": [
      "Accuracy: 0.43834160170092135\n",
      "Mean Absolute Error: 1.1881644223954642\n",
      "Mean Squared Error: 3.3625088589652727\n",
      "Classification Report: \n",
      "              precision    recall  f1-score   support\n",
      "\n",
      "           0       0.66      0.51      0.58      4252\n",
      "           1       0.30      0.56      0.39      1356\n",
      "           2       0.07      0.36      0.12        84\n",
      "           3       0.15      0.34      0.21       444\n",
      "           4       0.48      0.25      0.33      2330\n",
      "\n",
      "    accuracy                           0.44      8466\n",
      "   macro avg       0.33      0.41      0.33      8466\n",
      "weighted avg       0.52      0.44      0.46      8466\n",
      "\n"
     ]
    }
   ],
   "source": [
    "Y_pred = clf_gnb_OOD.predict(X_test_OOD)\n",
    "\n",
    "gnb_acc_OOD = accuracy_score(Y_test_OOD, Y_pred)\n",
    "\n",
    "print(f\"Accuracy: {gnb_acc_OOD}\")\n",
    "print(f\"Precision: {precision_score(Y_test_OOD, Y_pred, average = 'weighted')}\")\n",
    "print(f\"Recall: {recall_score(Y_test_OOD, Y_pred, average = 'weighted')}\")\n",
    "print(f\"F1-Score: {f1_score(Y_test_OOD, Y_pred, average = 'weighted')}\")\n",
    "print(f\"Mean Absolute Error: {mean_absolute_error(Y_test_OOD, Y_pred)}\")\n",
    "print(f\"Mean Squared Error: {mean_squared_error(Y_test_OOD, Y_pred)}\")\n",
    "print(f\"Classification Report: \\n{classification_report(Y_test_OOD, Y_pred, zero_division = 1)}\")"
   ]
  },
  {
   "cell_type": "markdown",
   "metadata": {},
   "source": [
    "### Logistic Regression"
   ]
  },
  {
   "cell_type": "markdown",
   "metadata": {},
   "source": [
    "In-Distribution"
   ]
  },
  {
   "cell_type": "code",
   "execution_count": null,
   "metadata": {
    "scrolled": true
   },
   "outputs": [
    {
     "name": "stdout",
     "output_type": "stream",
     "text": [
      "Accuracy: 0.8680351906158358\n",
      "Mean Absolute Error: 0.29594330400782015\n",
      "Mean Squared Error: 0.8614369501466276\n",
      "Classification Report: \n",
      "              precision    recall  f1-score   support\n",
      "\n",
      "           0       0.89      0.86      0.88      1649\n",
      "           1       0.81      0.86      0.83       558\n",
      "           2       0.74      0.81      0.77       189\n",
      "           3       0.61      0.71      0.66       198\n",
      "           4       0.92      0.91      0.91      1498\n",
      "\n",
      "    accuracy                           0.87      4092\n",
      "   macro avg       0.79      0.83      0.81      4092\n",
      "weighted avg       0.87      0.87      0.87      4092\n",
      "\n"
     ]
    }
   ],
   "source": [
    "Y_pred = clf_log.predict(X_test)\n",
    "\n",
    "log_acc = accuracy_score(Y_test, Y_pred)\n",
    "\n",
    "print(f\"Accuracy: {log_acc}\")\n",
    "print(f\"Precision: {precision_score(Y_test, Y_pred, average = 'weighted')}\")\n",
    "print(f\"Recall: {recall_score(Y_test, Y_pred, average = 'weighted')}\")\n",
    "print(f\"F1-Score: {f1_score(Y_test, Y_pred, average = 'weighted')}\")\n",
    "print(f\"Mean Absolute Error: {mean_absolute_error(Y_test, Y_pred)}\")\n",
    "print(f\"Mean Squared Error: {mean_squared_error(Y_test, Y_pred)}\")\n",
    "print(f\"Classification Report: \\n{classification_report(Y_test, Y_pred, zero_division = 1)}\")"
   ]
  },
  {
   "cell_type": "markdown",
   "metadata": {},
   "source": [
    "Out-of-Distribution"
   ]
  },
  {
   "cell_type": "code",
   "execution_count": null,
   "metadata": {},
   "outputs": [
    {
     "name": "stdout",
     "output_type": "stream",
     "text": [
      "Accuracy: 0.8369950389794472\n",
      "Mean Absolute Error: 0.36652492322230096\n",
      "Mean Squared Error: 1.069099929128278\n",
      "Classification Report: \n",
      "              precision    recall  f1-score   support\n",
      "\n",
      "           0       0.91      0.84      0.87      4252\n",
      "           1       0.77      0.88      0.82      1356\n",
      "           2       0.28      0.73      0.41        84\n",
      "           3       0.53      0.73      0.62       444\n",
      "           4       0.90      0.84      0.87      2330\n",
      "\n",
      "    accuracy                           0.84      8466\n",
      "   macro avg       0.68      0.80      0.72      8466\n",
      "weighted avg       0.86      0.84      0.84      8466\n",
      "\n"
     ]
    }
   ],
   "source": [
    "Y_pred = clf_log_OOD.predict(X_test_OOD)\n",
    "\n",
    "log_acc_OOD = accuracy_score(Y_test_OOD, Y_pred)\n",
    "\n",
    "print(f\"Accuracy: {log_acc_OOD}\")\n",
    "print(f\"Precision: {precision_score(Y_test_OOD, Y_pred, average = 'weighted')}\")\n",
    "print(f\"Recall: {recall_score(Y_test_OOD, Y_pred, average = 'weighted')}\")\n",
    "print(f\"F1-Score: {f1_score(Y_test_OOD, Y_pred, average = 'weighted')}\")\n",
    "print(f\"Mean Absolute Error: {mean_absolute_error(Y_test_OOD, Y_pred)}\")\n",
    "print(f\"Mean Squared Error: {mean_squared_error(Y_test_OOD, Y_pred)}\")\n",
    "print(f\"Classification Report: \\n{classification_report(Y_test_OOD, Y_pred, zero_division = 1)}\")"
   ]
  },
  {
   "cell_type": "markdown",
   "metadata": {},
   "source": [
    "### KNN"
   ]
  },
  {
   "cell_type": "markdown",
   "metadata": {},
   "source": [
    "In-Distribution"
   ]
  },
  {
   "cell_type": "code",
   "execution_count": null,
   "metadata": {},
   "outputs": [
    {
     "name": "stdout",
     "output_type": "stream",
     "text": [
      "Accuracy: 0.3626588465298143\n",
      "Mean Absolute Error: 1.2021016617790812\n",
      "Mean Squared Error: 2.7294721407624634\n",
      "Classification Report: \n",
      "              precision    recall  f1-score   support\n",
      "\n",
      "           0       0.94      0.02      0.03      1649\n",
      "           1       0.38      0.89      0.54       558\n",
      "           2       0.16      0.73      0.26       189\n",
      "           3       0.14      0.83      0.23       198\n",
      "           4       0.98      0.44      0.61      1498\n",
      "\n",
      "    accuracy                           0.36      4092\n",
      "   macro avg       0.52      0.58      0.33      4092\n",
      "weighted avg       0.80      0.36      0.33      4092\n",
      "\n"
     ]
    }
   ],
   "source": [
    "Y_pred = clf_knn.predict(X_test)\n",
    "\n",
    "knn_acc = accuracy_score(Y_test, Y_pred)\n",
    "\n",
    "print(f\"Accuracy: {knn_acc}\")\n",
    "print(f\"Precision: {precision_score(Y_test, Y_pred, average = 'weighted')}\")\n",
    "print(f\"Recall: {recall_score(Y_test, Y_pred, average = 'weighted')}\")\n",
    "print(f\"F1-Score: {f1_score(Y_test, Y_pred, average = 'weighted')}\")\n",
    "print(f\"Mean Absolute Error: {mean_absolute_error(Y_test, Y_pred)}\")\n",
    "print(f\"Mean Squared Error: {mean_squared_error(Y_test, Y_pred)}\")\n",
    "print(f\"Classification Report: \\n{classification_report(Y_test, Y_pred, zero_division = 1)}\")"
   ]
  },
  {
   "cell_type": "markdown",
   "metadata": {},
   "source": [
    "Out-of-Distribution"
   ]
  },
  {
   "cell_type": "code",
   "execution_count": null,
   "metadata": {},
   "outputs": [
    {
     "name": "stdout",
     "output_type": "stream",
     "text": [
      "Accuracy: 0.5708717221828491\n",
      "Mean Absolute Error: 0.8830616583982991\n",
      "Mean Squared Error: 2.2622253720765415\n",
      "Classification Report: \n",
      "              precision    recall  f1-score   support\n",
      "\n",
      "           0       0.85      0.55      0.67      4252\n",
      "           1       0.52      0.85      0.64      1356\n",
      "           2       0.07      0.70      0.12        84\n",
      "           3       0.21      0.77      0.33       444\n",
      "           4       0.95      0.40      0.56      2330\n",
      "\n",
      "    accuracy                           0.57      8466\n",
      "   macro avg       0.52      0.65      0.47      8466\n",
      "weighted avg       0.78      0.57      0.61      8466\n",
      "\n"
     ]
    }
   ],
   "source": [
    "Y_pred = clf_knn_OOD.predict(X_test_OOD)\n",
    "\n",
    "knn_acc_OOD = accuracy_score(Y_test_OOD, Y_pred)\n",
    "\n",
    "print(f\"Accuracy: {knn_acc_OOD}\")\n",
    "print(f\"Precision: {precision_score(Y_test_OOD, Y_pred, average = 'weighted')}\")\n",
    "print(f\"Recall: {recall_score(Y_test_OOD, Y_pred, average = 'weighted')}\")\n",
    "print(f\"F1-Score: {f1_score(Y_test_OOD, Y_pred, average = 'weighted')}\")\n",
    "print(f\"Mean Absolute Error: {mean_absolute_error(Y_test_OOD, Y_pred)}\")\n",
    "print(f\"Mean Squared Error: {mean_squared_error(Y_test_OOD, Y_pred)}\")\n",
    "print(f\"Classification Report: \\n{classification_report(Y_test_OOD, Y_pred, zero_division = 1)}\")"
   ]
  },
  {
   "cell_type": "markdown",
   "metadata": {},
   "source": [
    "### XG_Boost"
   ]
  },
  {
   "cell_type": "markdown",
   "metadata": {},
   "source": [
    "In-Distribution"
   ]
  },
  {
   "cell_type": "code",
   "execution_count": null,
   "metadata": {},
   "outputs": [
    {
     "name": "stdout",
     "output_type": "stream",
     "text": [
      "Accuracy: 0.8702346041055719\n",
      "Mean Absolute Error: 0.2837243401759531\n",
      "Mean Squared Error: 0.8008308895405669\n",
      "Classification Report: \n",
      "              precision    recall  f1-score   support\n",
      "\n",
      "           0       0.92      0.85      0.88      1649\n",
      "           1       0.81      0.89      0.85       558\n",
      "           2       0.67      0.83      0.74       189\n",
      "           3       0.56      0.76      0.65       198\n",
      "           4       0.94      0.90      0.92      1498\n",
      "\n",
      "    accuracy                           0.87      4092\n",
      "   macro avg       0.78      0.85      0.81      4092\n",
      "weighted avg       0.88      0.87      0.87      4092\n",
      "\n"
     ]
    }
   ],
   "source": [
    "Y_pred = clf_xgb.predict(X_test)\n",
    "\n",
    "xgb_acc = accuracy_score(Y_test, Y_pred)\n",
    "\n",
    "print(f\"Accuracy: {xgb_acc}\")\n",
    "print(f\"Precision: {precision_score(Y_test, Y_pred, average = 'weighted')}\")\n",
    "print(f\"Recall: {recall_score(Y_test, Y_pred, average = 'weighted')}\")\n",
    "print(f\"F1-Score: {f1_score(Y_test, Y_pred, average = 'weighted')}\")\n",
    "print(f\"Mean Absolute Error: {mean_absolute_error(Y_test, Y_pred)}\")\n",
    "print(f\"Mean Squared Error: {mean_squared_error(Y_test, Y_pred)}\")\n",
    "print(f\"Classification Report: \\n{classification_report(Y_test, Y_pred, zero_division = 1)}\")"
   ]
  },
  {
   "cell_type": "markdown",
   "metadata": {},
   "source": [
    "Out-of-Distribution"
   ]
  },
  {
   "cell_type": "code",
   "execution_count": null,
   "metadata": {},
   "outputs": [
    {
     "name": "stdout",
     "output_type": "stream",
     "text": [
      "Accuracy: 0.8530592960075597\n",
      "Mean Absolute Error: 0.3341601700921332\n",
      "Mean Squared Error: 1.0001181195369715\n",
      "Classification Report: \n",
      "              precision    recall  f1-score   support\n",
      "\n",
      "           0       0.90      0.87      0.88      4252\n",
      "           1       0.81      0.86      0.83      1356\n",
      "           2       0.36      0.75      0.48        84\n",
      "           3       0.63      0.68      0.65       444\n",
      "           4       0.89      0.87      0.88      2330\n",
      "\n",
      "    accuracy                           0.85      8466\n",
      "   macro avg       0.72      0.80      0.75      8466\n",
      "weighted avg       0.86      0.85      0.86      8466\n",
      "\n"
     ]
    }
   ],
   "source": [
    "Y_pred = clf_xgb_OOD.predict(X_test_OOD)\n",
    "\n",
    "xgb_acc_OOD = accuracy_score(Y_test_OOD, Y_pred)\n",
    "\n",
    "print(f\"Accuracy: {xgb_acc_OOD}\")\n",
    "print(f\"Precision: {precision_score(Y_test_OOD, Y_pred, average = 'weighted')}\")\n",
    "print(f\"Recall: {recall_score(Y_test_OOD, Y_pred, average = 'weighted')}\")\n",
    "print(f\"F1-Score: {f1_score(Y_test_OOD, Y_pred, average = 'weighted')}\")\n",
    "print(f\"Mean Absolute Error: {mean_absolute_error(Y_test_OOD, Y_pred)}\")\n",
    "print(f\"Mean Squared Error: {mean_squared_error(Y_test_OOD, Y_pred)}\")\n",
    "print(f\"Classification Report: \\n{classification_report(Y_test_OOD, Y_pred, zero_division = 1)}\")"
   ]
  },
  {
   "cell_type": "markdown",
   "metadata": {},
   "source": [
    "### Decision Tree"
   ]
  },
  {
   "cell_type": "markdown",
   "metadata": {},
   "source": [
    "In-Distribution"
   ]
  },
  {
   "cell_type": "code",
   "execution_count": null,
   "metadata": {},
   "outputs": [
    {
     "name": "stdout",
     "output_type": "stream",
     "text": [
      "Accuracy: 0.8118279569892473\n",
      "Mean Absolute Error: 0.40078201368523947\n",
      "Mean Squared Error: 1.0992179863147604\n",
      "Classification Report: \n",
      "              precision    recall  f1-score   support\n",
      "\n",
      "           0       0.88      0.79      0.83      1649\n",
      "           1       0.72      0.80      0.76       558\n",
      "           2       0.49      0.78      0.60       189\n",
      "           3       0.48      0.63      0.54       198\n",
      "           4       0.91      0.87      0.89      1498\n",
      "\n",
      "    accuracy                           0.81      4092\n",
      "   macro avg       0.70      0.77      0.72      4092\n",
      "weighted avg       0.83      0.81      0.82      4092\n",
      "\n"
     ]
    }
   ],
   "source": [
    "Y_pred = clf_dtc.predict(X_test)\n",
    "\n",
    "dtc_acc = accuracy_score(Y_test, Y_pred)\n",
    "\n",
    "print(f\"Accuracy: {dtc_acc}\")\n",
    "print(f\"Precision: {precision_score(Y_test, Y_pred, average = 'weighted')}\")\n",
    "print(f\"Recall: {recall_score(Y_test, Y_pred, average = 'weighted')}\")\n",
    "print(f\"F1-Score: {f1_score(Y_test, Y_pred, average = 'weighted')}\")\n",
    "print(f\"Mean Absolute Error: {mean_absolute_error(Y_test, Y_pred)}\")\n",
    "print(f\"Mean Squared Error: {mean_squared_error(Y_test, Y_pred)}\")\n",
    "print(f\"Classification Report: \\n{classification_report(Y_test, Y_pred, zero_division = 1)}\")"
   ]
  },
  {
   "cell_type": "markdown",
   "metadata": {},
   "source": [
    "Out-of-Distribution"
   ]
  },
  {
   "cell_type": "code",
   "execution_count": null,
   "metadata": {},
   "outputs": [
    {
     "name": "stdout",
     "output_type": "stream",
     "text": [
      "Accuracy: 0.8145523269548783\n",
      "Mean Absolute Error: 0.4223954642097803\n",
      "Mean Squared Error: 1.2636428065201983\n",
      "Classification Report: \n",
      "              precision    recall  f1-score   support\n",
      "\n",
      "           0       0.87      0.82      0.85      4252\n",
      "           1       0.77      0.81      0.79      1356\n",
      "           2       0.28      0.71      0.40        84\n",
      "           3       0.54      0.66      0.60       444\n",
      "           4       0.86      0.84      0.85      2330\n",
      "\n",
      "    accuracy                           0.81      8466\n",
      "   macro avg       0.66      0.77      0.70      8466\n",
      "weighted avg       0.83      0.81      0.82      8466\n",
      "\n"
     ]
    }
   ],
   "source": [
    "Y_pred = clf_dtc_OOD.predict(X_test_OOD)\n",
    "\n",
    "dtc_acc_OOD = accuracy_score(Y_test_OOD, Y_pred)\n",
    "\n",
    "print(f\"Accuracy: {dtc_acc_OOD}\")\n",
    "print(f\"Precision: {precision_score(Y_test_OOD, Y_pred, average = 'weighted')}\")\n",
    "print(f\"Recall: {recall_score(Y_test_OOD, Y_pred, average = 'weighted')}\")\n",
    "print(f\"F1-Score: {f1_score(Y_test_OOD, Y_pred, average = 'weighted')}\")\n",
    "print(f\"Mean Absolute Error: {mean_absolute_error(Y_test_OOD, Y_pred)}\")\n",
    "print(f\"Mean Squared Error: {mean_squared_error(Y_test_OOD, Y_pred)}\")\n",
    "print(f\"Classification Report: \\n{classification_report(Y_test_OOD, Y_pred, zero_division = 1)}\")"
   ]
  },
  {
   "cell_type": "markdown",
   "metadata": {},
   "source": [
    "### Ada Boost"
   ]
  },
  {
   "cell_type": "markdown",
   "metadata": {},
   "source": [
    "In-Distribution"
   ]
  },
  {
   "cell_type": "code",
   "execution_count": null,
   "metadata": {},
   "outputs": [
    {
     "name": "stdout",
     "output_type": "stream",
     "text": [
      "Accuracy: 0.8191593352883676\n",
      "Mean Absolute Error: 0.3907624633431085\n",
      "Mean Squared Error: 1.0740469208211143\n",
      "Classification Report: \n",
      "              precision    recall  f1-score   support\n",
      "\n",
      "           0       0.89      0.80      0.84      1649\n",
      "           1       0.74      0.83      0.78       558\n",
      "           2       0.51      0.77      0.61       189\n",
      "           3       0.47      0.69      0.56       198\n",
      "           4       0.92      0.86      0.89      1498\n",
      "\n",
      "    accuracy                           0.82      4092\n",
      "   macro avg       0.70      0.79      0.74      4092\n",
      "weighted avg       0.84      0.82      0.83      4092\n",
      "\n"
     ]
    }
   ],
   "source": [
    "Y_pred = clf_ada.predict(X_test)\n",
    "\n",
    "ada_acc = accuracy_score(Y_test, Y_pred)\n",
    "\n",
    "print(f\"Accuracy: {ada_acc}\")\n",
    "print(f\"Precision: {precision_score(Y_test, Y_pred, average = 'weighted')}\")\n",
    "print(f\"Recall: {recall_score(Y_test, Y_pred, average = 'weighted')}\")\n",
    "print(f\"F1-Score: {f1_score(Y_test, Y_pred, average = 'weighted')}\")\n",
    "print(f\"Mean Absolute Error: {mean_absolute_error(Y_test, Y_pred)}\")\n",
    "print(f\"Mean Squared Error: {mean_squared_error(Y_test, Y_pred)}\")\n",
    "print(f\"Classification Report: \\n{classification_report(Y_test, Y_pred, zero_division = 1)}\")"
   ]
  },
  {
   "cell_type": "markdown",
   "metadata": {},
   "source": [
    "Out-of-Distribution"
   ]
  },
  {
   "cell_type": "code",
   "execution_count": null,
   "metadata": {},
   "outputs": [
    {
     "name": "stdout",
     "output_type": "stream",
     "text": [
      "Accuracy: 0.8300259862981337\n",
      "Mean Absolute Error: 0.3895582329317269\n",
      "Mean Squared Error: 1.1663123080557525\n",
      "Classification Report: \n",
      "              precision    recall  f1-score   support\n",
      "\n",
      "           0       0.87      0.85      0.86      4252\n",
      "           1       0.80      0.81      0.81      1356\n",
      "           2       0.29      0.73      0.41        84\n",
      "           3       0.57      0.71      0.63       444\n",
      "           4       0.89      0.84      0.86      2330\n",
      "\n",
      "    accuracy                           0.83      8466\n",
      "   macro avg       0.68      0.79      0.71      8466\n",
      "weighted avg       0.84      0.83      0.83      8466\n",
      "\n"
     ]
    }
   ],
   "source": [
    "Y_pred = clf_ada_OOD.predict(X_test_OOD)\n",
    "\n",
    "ada_acc_OOD = accuracy_score(Y_test_OOD, Y_pred)\n",
    "\n",
    "print(f\"Accuracy: {ada_acc_OOD}\")\n",
    "print(f\"Precision: {precision_score(Y_test_OOD, Y_pred, average = 'weighted')}\")\n",
    "print(f\"Recall: {recall_score(Y_test_OOD, Y_pred, average = 'weighted')}\")\n",
    "print(f\"F1-Score: {f1_score(Y_test_OOD, Y_pred, average = 'weighted')}\")\n",
    "print(f\"Mean Absolute Error: {mean_absolute_error(Y_test_OOD, Y_pred)}\")\n",
    "print(f\"Mean Squared Error: {mean_squared_error(Y_test_OOD, Y_pred)}\")\n",
    "print(f\"Classification Report: \\n{classification_report(Y_test_OOD, Y_pred, zero_division = 1)}\")"
   ]
  },
  {
   "cell_type": "markdown",
   "metadata": {},
   "source": [
    "# Model Comparison"
   ]
  },
  {
   "cell_type": "code",
   "execution_count": null,
   "metadata": {},
   "outputs": [
    {
     "data": {
      "application/vnd.plotly.v1+json": {
       "config": {
        "plotlyServerURL": "https://plot.ly"
       },
       "data": [
        {
         "alignmentgroup": "True",
         "hovertemplate": "Score=%{x}<br>Model=%{y}<extra></extra>",
         "legendgroup": "",
         "marker": {
          "color": "#636efa",
          "pattern": {
           "shape": ""
          }
         },
         "name": "",
         "offsetgroup": "",
         "orientation": "h",
         "showlegend": false,
         "textposition": "auto",
         "type": "bar",
         "x": [
          0.3626588465298143,
          0.3902737047898338,
          0.40298142717497554,
          0.8118279569892473,
          0.8191593352883676,
          0.8377321603128055,
          0.8658357771260997,
          0.8702346041055719
         ],
         "xaxis": "x",
         "y": [
          "KNN Classifier",
          "Naive Bayes Classifier",
          "Bayesian Neural Network",
          "Decision Tree Classifier",
          "Ada_Boost Classifier",
          "Random Forest Classifier",
          "SVM Classifier",
          "XG_Boost Classifier"
         ],
         "yaxis": "y"
        }
       ],
       "layout": {
        "barmode": "relative",
        "legend": {
         "tracegroupgap": 0
        },
        "template": {
         "data": {
          "bar": [
           {
            "error_x": {
             "color": "#2a3f5f"
            },
            "error_y": {
             "color": "#2a3f5f"
            },
            "marker": {
             "line": {
              "color": "#E5ECF6",
              "width": 0.5
             },
             "pattern": {
              "fillmode": "overlay",
              "size": 10,
              "solidity": 0.2
             }
            },
            "type": "bar"
           }
          ],
          "barpolar": [
           {
            "marker": {
             "line": {
              "color": "#E5ECF6",
              "width": 0.5
             },
             "pattern": {
              "fillmode": "overlay",
              "size": 10,
              "solidity": 0.2
             }
            },
            "type": "barpolar"
           }
          ],
          "carpet": [
           {
            "aaxis": {
             "endlinecolor": "#2a3f5f",
             "gridcolor": "white",
             "linecolor": "white",
             "minorgridcolor": "white",
             "startlinecolor": "#2a3f5f"
            },
            "baxis": {
             "endlinecolor": "#2a3f5f",
             "gridcolor": "white",
             "linecolor": "white",
             "minorgridcolor": "white",
             "startlinecolor": "#2a3f5f"
            },
            "type": "carpet"
           }
          ],
          "choropleth": [
           {
            "colorbar": {
             "outlinewidth": 0,
             "ticks": ""
            },
            "type": "choropleth"
           }
          ],
          "contour": [
           {
            "colorbar": {
             "outlinewidth": 0,
             "ticks": ""
            },
            "colorscale": [
             [
              0,
              "#0d0887"
             ],
             [
              0.1111111111111111,
              "#46039f"
             ],
             [
              0.2222222222222222,
              "#7201a8"
             ],
             [
              0.3333333333333333,
              "#9c179e"
             ],
             [
              0.4444444444444444,
              "#bd3786"
             ],
             [
              0.5555555555555556,
              "#d8576b"
             ],
             [
              0.6666666666666666,
              "#ed7953"
             ],
             [
              0.7777777777777778,
              "#fb9f3a"
             ],
             [
              0.8888888888888888,
              "#fdca26"
             ],
             [
              1,
              "#f0f921"
             ]
            ],
            "type": "contour"
           }
          ],
          "contourcarpet": [
           {
            "colorbar": {
             "outlinewidth": 0,
             "ticks": ""
            },
            "type": "contourcarpet"
           }
          ],
          "heatmap": [
           {
            "colorbar": {
             "outlinewidth": 0,
             "ticks": ""
            },
            "colorscale": [
             [
              0,
              "#0d0887"
             ],
             [
              0.1111111111111111,
              "#46039f"
             ],
             [
              0.2222222222222222,
              "#7201a8"
             ],
             [
              0.3333333333333333,
              "#9c179e"
             ],
             [
              0.4444444444444444,
              "#bd3786"
             ],
             [
              0.5555555555555556,
              "#d8576b"
             ],
             [
              0.6666666666666666,
              "#ed7953"
             ],
             [
              0.7777777777777778,
              "#fb9f3a"
             ],
             [
              0.8888888888888888,
              "#fdca26"
             ],
             [
              1,
              "#f0f921"
             ]
            ],
            "type": "heatmap"
           }
          ],
          "heatmapgl": [
           {
            "colorbar": {
             "outlinewidth": 0,
             "ticks": ""
            },
            "colorscale": [
             [
              0,
              "#0d0887"
             ],
             [
              0.1111111111111111,
              "#46039f"
             ],
             [
              0.2222222222222222,
              "#7201a8"
             ],
             [
              0.3333333333333333,
              "#9c179e"
             ],
             [
              0.4444444444444444,
              "#bd3786"
             ],
             [
              0.5555555555555556,
              "#d8576b"
             ],
             [
              0.6666666666666666,
              "#ed7953"
             ],
             [
              0.7777777777777778,
              "#fb9f3a"
             ],
             [
              0.8888888888888888,
              "#fdca26"
             ],
             [
              1,
              "#f0f921"
             ]
            ],
            "type": "heatmapgl"
           }
          ],
          "histogram": [
           {
            "marker": {
             "pattern": {
              "fillmode": "overlay",
              "size": 10,
              "solidity": 0.2
             }
            },
            "type": "histogram"
           }
          ],
          "histogram2d": [
           {
            "colorbar": {
             "outlinewidth": 0,
             "ticks": ""
            },
            "colorscale": [
             [
              0,
              "#0d0887"
             ],
             [
              0.1111111111111111,
              "#46039f"
             ],
             [
              0.2222222222222222,
              "#7201a8"
             ],
             [
              0.3333333333333333,
              "#9c179e"
             ],
             [
              0.4444444444444444,
              "#bd3786"
             ],
             [
              0.5555555555555556,
              "#d8576b"
             ],
             [
              0.6666666666666666,
              "#ed7953"
             ],
             [
              0.7777777777777778,
              "#fb9f3a"
             ],
             [
              0.8888888888888888,
              "#fdca26"
             ],
             [
              1,
              "#f0f921"
             ]
            ],
            "type": "histogram2d"
           }
          ],
          "histogram2dcontour": [
           {
            "colorbar": {
             "outlinewidth": 0,
             "ticks": ""
            },
            "colorscale": [
             [
              0,
              "#0d0887"
             ],
             [
              0.1111111111111111,
              "#46039f"
             ],
             [
              0.2222222222222222,
              "#7201a8"
             ],
             [
              0.3333333333333333,
              "#9c179e"
             ],
             [
              0.4444444444444444,
              "#bd3786"
             ],
             [
              0.5555555555555556,
              "#d8576b"
             ],
             [
              0.6666666666666666,
              "#ed7953"
             ],
             [
              0.7777777777777778,
              "#fb9f3a"
             ],
             [
              0.8888888888888888,
              "#fdca26"
             ],
             [
              1,
              "#f0f921"
             ]
            ],
            "type": "histogram2dcontour"
           }
          ],
          "mesh3d": [
           {
            "colorbar": {
             "outlinewidth": 0,
             "ticks": ""
            },
            "type": "mesh3d"
           }
          ],
          "parcoords": [
           {
            "line": {
             "colorbar": {
              "outlinewidth": 0,
              "ticks": ""
             }
            },
            "type": "parcoords"
           }
          ],
          "pie": [
           {
            "automargin": true,
            "type": "pie"
           }
          ],
          "scatter": [
           {
            "fillpattern": {
             "fillmode": "overlay",
             "size": 10,
             "solidity": 0.2
            },
            "type": "scatter"
           }
          ],
          "scatter3d": [
           {
            "line": {
             "colorbar": {
              "outlinewidth": 0,
              "ticks": ""
             }
            },
            "marker": {
             "colorbar": {
              "outlinewidth": 0,
              "ticks": ""
             }
            },
            "type": "scatter3d"
           }
          ],
          "scattercarpet": [
           {
            "marker": {
             "colorbar": {
              "outlinewidth": 0,
              "ticks": ""
             }
            },
            "type": "scattercarpet"
           }
          ],
          "scattergeo": [
           {
            "marker": {
             "colorbar": {
              "outlinewidth": 0,
              "ticks": ""
             }
            },
            "type": "scattergeo"
           }
          ],
          "scattergl": [
           {
            "marker": {
             "colorbar": {
              "outlinewidth": 0,
              "ticks": ""
             }
            },
            "type": "scattergl"
           }
          ],
          "scattermapbox": [
           {
            "marker": {
             "colorbar": {
              "outlinewidth": 0,
              "ticks": ""
             }
            },
            "type": "scattermapbox"
           }
          ],
          "scatterpolar": [
           {
            "marker": {
             "colorbar": {
              "outlinewidth": 0,
              "ticks": ""
             }
            },
            "type": "scatterpolar"
           }
          ],
          "scatterpolargl": [
           {
            "marker": {
             "colorbar": {
              "outlinewidth": 0,
              "ticks": ""
             }
            },
            "type": "scatterpolargl"
           }
          ],
          "scatterternary": [
           {
            "marker": {
             "colorbar": {
              "outlinewidth": 0,
              "ticks": ""
             }
            },
            "type": "scatterternary"
           }
          ],
          "surface": [
           {
            "colorbar": {
             "outlinewidth": 0,
             "ticks": ""
            },
            "colorscale": [
             [
              0,
              "#0d0887"
             ],
             [
              0.1111111111111111,
              "#46039f"
             ],
             [
              0.2222222222222222,
              "#7201a8"
             ],
             [
              0.3333333333333333,
              "#9c179e"
             ],
             [
              0.4444444444444444,
              "#bd3786"
             ],
             [
              0.5555555555555556,
              "#d8576b"
             ],
             [
              0.6666666666666666,
              "#ed7953"
             ],
             [
              0.7777777777777778,
              "#fb9f3a"
             ],
             [
              0.8888888888888888,
              "#fdca26"
             ],
             [
              1,
              "#f0f921"
             ]
            ],
            "type": "surface"
           }
          ],
          "table": [
           {
            "cells": {
             "fill": {
              "color": "#EBF0F8"
             },
             "line": {
              "color": "white"
             }
            },
            "header": {
             "fill": {
              "color": "#C8D4E3"
             },
             "line": {
              "color": "white"
             }
            },
            "type": "table"
           }
          ]
         },
         "layout": {
          "annotationdefaults": {
           "arrowcolor": "#2a3f5f",
           "arrowhead": 0,
           "arrowwidth": 1
          },
          "autotypenumbers": "strict",
          "coloraxis": {
           "colorbar": {
            "outlinewidth": 0,
            "ticks": ""
           }
          },
          "colorscale": {
           "diverging": [
            [
             0,
             "#8e0152"
            ],
            [
             0.1,
             "#c51b7d"
            ],
            [
             0.2,
             "#de77ae"
            ],
            [
             0.3,
             "#f1b6da"
            ],
            [
             0.4,
             "#fde0ef"
            ],
            [
             0.5,
             "#f7f7f7"
            ],
            [
             0.6,
             "#e6f5d0"
            ],
            [
             0.7,
             "#b8e186"
            ],
            [
             0.8,
             "#7fbc41"
            ],
            [
             0.9,
             "#4d9221"
            ],
            [
             1,
             "#276419"
            ]
           ],
           "sequential": [
            [
             0,
             "#0d0887"
            ],
            [
             0.1111111111111111,
             "#46039f"
            ],
            [
             0.2222222222222222,
             "#7201a8"
            ],
            [
             0.3333333333333333,
             "#9c179e"
            ],
            [
             0.4444444444444444,
             "#bd3786"
            ],
            [
             0.5555555555555556,
             "#d8576b"
            ],
            [
             0.6666666666666666,
             "#ed7953"
            ],
            [
             0.7777777777777778,
             "#fb9f3a"
            ],
            [
             0.8888888888888888,
             "#fdca26"
            ],
            [
             1,
             "#f0f921"
            ]
           ],
           "sequentialminus": [
            [
             0,
             "#0d0887"
            ],
            [
             0.1111111111111111,
             "#46039f"
            ],
            [
             0.2222222222222222,
             "#7201a8"
            ],
            [
             0.3333333333333333,
             "#9c179e"
            ],
            [
             0.4444444444444444,
             "#bd3786"
            ],
            [
             0.5555555555555556,
             "#d8576b"
            ],
            [
             0.6666666666666666,
             "#ed7953"
            ],
            [
             0.7777777777777778,
             "#fb9f3a"
            ],
            [
             0.8888888888888888,
             "#fdca26"
            ],
            [
             1,
             "#f0f921"
            ]
           ]
          },
          "colorway": [
           "#636efa",
           "#EF553B",
           "#00cc96",
           "#ab63fa",
           "#FFA15A",
           "#19d3f3",
           "#FF6692",
           "#B6E880",
           "#FF97FF",
           "#FECB52"
          ],
          "font": {
           "color": "#2a3f5f"
          },
          "geo": {
           "bgcolor": "white",
           "lakecolor": "white",
           "landcolor": "#E5ECF6",
           "showlakes": true,
           "showland": true,
           "subunitcolor": "white"
          },
          "hoverlabel": {
           "align": "left"
          },
          "hovermode": "closest",
          "mapbox": {
           "style": "light"
          },
          "paper_bgcolor": "white",
          "plot_bgcolor": "#E5ECF6",
          "polar": {
           "angularaxis": {
            "gridcolor": "white",
            "linecolor": "white",
            "ticks": ""
           },
           "bgcolor": "#E5ECF6",
           "radialaxis": {
            "gridcolor": "white",
            "linecolor": "white",
            "ticks": ""
           }
          },
          "scene": {
           "xaxis": {
            "backgroundcolor": "#E5ECF6",
            "gridcolor": "white",
            "gridwidth": 2,
            "linecolor": "white",
            "showbackground": true,
            "ticks": "",
            "zerolinecolor": "white"
           },
           "yaxis": {
            "backgroundcolor": "#E5ECF6",
            "gridcolor": "white",
            "gridwidth": 2,
            "linecolor": "white",
            "showbackground": true,
            "ticks": "",
            "zerolinecolor": "white"
           },
           "zaxis": {
            "backgroundcolor": "#E5ECF6",
            "gridcolor": "white",
            "gridwidth": 2,
            "linecolor": "white",
            "showbackground": true,
            "ticks": "",
            "zerolinecolor": "white"
           }
          },
          "shapedefaults": {
           "line": {
            "color": "#2a3f5f"
           }
          },
          "ternary": {
           "aaxis": {
            "gridcolor": "white",
            "linecolor": "white",
            "ticks": ""
           },
           "baxis": {
            "gridcolor": "white",
            "linecolor": "white",
            "ticks": ""
           },
           "bgcolor": "#E5ECF6",
           "caxis": {
            "gridcolor": "white",
            "linecolor": "white",
            "ticks": ""
           }
          },
          "title": {
           "x": 0.05
          },
          "xaxis": {
           "automargin": true,
           "gridcolor": "white",
           "linecolor": "white",
           "ticks": "",
           "title": {
            "standoff": 15
           },
           "zerolinecolor": "white",
           "zerolinewidth": 2
          },
          "yaxis": {
           "automargin": true,
           "gridcolor": "white",
           "linecolor": "white",
           "ticks": "",
           "title": {
            "standoff": 15
           },
           "zerolinecolor": "white",
           "zerolinewidth": 2
          }
         }
        },
        "title": {
         "text": "Models Comparison"
        },
        "xaxis": {
         "anchor": "y",
         "domain": [
          0,
          1
         ],
         "title": {
          "text": "Score"
         }
        },
        "yaxis": {
         "anchor": "x",
         "domain": [
          0,
          1
         ],
         "title": {
          "text": "Model"
         }
        }
       }
      }
     },
     "metadata": {},
     "output_type": "display_data"
    }
   ],
   "source": [
    "models = pd.DataFrame({\n",
    "    'Model' : [ 'Random Forest Classifier', 'SVM Classifier', 'Naive Bayes Classifier','KNN Classifier', 'XG_Boost Classifier', 'Decision Tree Classifier', 'Ada_Boost Classifier', 'Bayesian Neural Network'],\n",
    "    'Score' : [rand_forest_acc, svm_acc, gnb_acc, knn_acc, xgb_acc, dtc_acc, ada_acc, bnn_acc]\n",
    "})\n",
    "\n",
    "sorted_models = models.sort_values(by = 'Score', ascending = True)\n",
    "\n",
    "fig = px.bar(data_frame = sorted_models, x = 'Score', y = 'Model', title = 'Models Comparison')\n",
    "\n",
    "fig.show()"
   ]
  },
  {
   "cell_type": "code",
   "execution_count": null,
   "metadata": {},
   "outputs": [
    {
     "data": {
      "application/vnd.plotly.v1+json": {
       "config": {
        "plotlyServerURL": "https://plot.ly"
       },
       "data": [
        {
         "alignmentgroup": "True",
         "hovertemplate": "Score=%{x}<br>Model=%{y}<extra></extra>",
         "legendgroup": "",
         "marker": {
          "color": "#636efa",
          "pattern": {
           "shape": ""
          }
         },
         "name": "",
         "offsetgroup": "",
         "orientation": "h",
         "showlegend": false,
         "textposition": "auto",
         "type": "bar",
         "x": [
          0.2752185211433971,
          0.43834160170092135,
          0.5708717221828491,
          0.8145523269548783,
          0.8251830852823057,
          0.8300259862981337,
          0.844318450271675,
          0.8530592960075597
         ],
         "xaxis": "x",
         "y": [
          "Bayesian Neural Network",
          "Naive Bayes Classifier",
          "KNN Classifier",
          "Decision Tree Classifier",
          "SVM Classifier",
          "Ada_Boost Classifier",
          "Random Forest Classifier",
          "XG_Boost Classifier"
         ],
         "yaxis": "y"
        }
       ],
       "layout": {
        "barmode": "relative",
        "legend": {
         "tracegroupgap": 0
        },
        "template": {
         "data": {
          "bar": [
           {
            "error_x": {
             "color": "#2a3f5f"
            },
            "error_y": {
             "color": "#2a3f5f"
            },
            "marker": {
             "line": {
              "color": "#E5ECF6",
              "width": 0.5
             },
             "pattern": {
              "fillmode": "overlay",
              "size": 10,
              "solidity": 0.2
             }
            },
            "type": "bar"
           }
          ],
          "barpolar": [
           {
            "marker": {
             "line": {
              "color": "#E5ECF6",
              "width": 0.5
             },
             "pattern": {
              "fillmode": "overlay",
              "size": 10,
              "solidity": 0.2
             }
            },
            "type": "barpolar"
           }
          ],
          "carpet": [
           {
            "aaxis": {
             "endlinecolor": "#2a3f5f",
             "gridcolor": "white",
             "linecolor": "white",
             "minorgridcolor": "white",
             "startlinecolor": "#2a3f5f"
            },
            "baxis": {
             "endlinecolor": "#2a3f5f",
             "gridcolor": "white",
             "linecolor": "white",
             "minorgridcolor": "white",
             "startlinecolor": "#2a3f5f"
            },
            "type": "carpet"
           }
          ],
          "choropleth": [
           {
            "colorbar": {
             "outlinewidth": 0,
             "ticks": ""
            },
            "type": "choropleth"
           }
          ],
          "contour": [
           {
            "colorbar": {
             "outlinewidth": 0,
             "ticks": ""
            },
            "colorscale": [
             [
              0,
              "#0d0887"
             ],
             [
              0.1111111111111111,
              "#46039f"
             ],
             [
              0.2222222222222222,
              "#7201a8"
             ],
             [
              0.3333333333333333,
              "#9c179e"
             ],
             [
              0.4444444444444444,
              "#bd3786"
             ],
             [
              0.5555555555555556,
              "#d8576b"
             ],
             [
              0.6666666666666666,
              "#ed7953"
             ],
             [
              0.7777777777777778,
              "#fb9f3a"
             ],
             [
              0.8888888888888888,
              "#fdca26"
             ],
             [
              1,
              "#f0f921"
             ]
            ],
            "type": "contour"
           }
          ],
          "contourcarpet": [
           {
            "colorbar": {
             "outlinewidth": 0,
             "ticks": ""
            },
            "type": "contourcarpet"
           }
          ],
          "heatmap": [
           {
            "colorbar": {
             "outlinewidth": 0,
             "ticks": ""
            },
            "colorscale": [
             [
              0,
              "#0d0887"
             ],
             [
              0.1111111111111111,
              "#46039f"
             ],
             [
              0.2222222222222222,
              "#7201a8"
             ],
             [
              0.3333333333333333,
              "#9c179e"
             ],
             [
              0.4444444444444444,
              "#bd3786"
             ],
             [
              0.5555555555555556,
              "#d8576b"
             ],
             [
              0.6666666666666666,
              "#ed7953"
             ],
             [
              0.7777777777777778,
              "#fb9f3a"
             ],
             [
              0.8888888888888888,
              "#fdca26"
             ],
             [
              1,
              "#f0f921"
             ]
            ],
            "type": "heatmap"
           }
          ],
          "heatmapgl": [
           {
            "colorbar": {
             "outlinewidth": 0,
             "ticks": ""
            },
            "colorscale": [
             [
              0,
              "#0d0887"
             ],
             [
              0.1111111111111111,
              "#46039f"
             ],
             [
              0.2222222222222222,
              "#7201a8"
             ],
             [
              0.3333333333333333,
              "#9c179e"
             ],
             [
              0.4444444444444444,
              "#bd3786"
             ],
             [
              0.5555555555555556,
              "#d8576b"
             ],
             [
              0.6666666666666666,
              "#ed7953"
             ],
             [
              0.7777777777777778,
              "#fb9f3a"
             ],
             [
              0.8888888888888888,
              "#fdca26"
             ],
             [
              1,
              "#f0f921"
             ]
            ],
            "type": "heatmapgl"
           }
          ],
          "histogram": [
           {
            "marker": {
             "pattern": {
              "fillmode": "overlay",
              "size": 10,
              "solidity": 0.2
             }
            },
            "type": "histogram"
           }
          ],
          "histogram2d": [
           {
            "colorbar": {
             "outlinewidth": 0,
             "ticks": ""
            },
            "colorscale": [
             [
              0,
              "#0d0887"
             ],
             [
              0.1111111111111111,
              "#46039f"
             ],
             [
              0.2222222222222222,
              "#7201a8"
             ],
             [
              0.3333333333333333,
              "#9c179e"
             ],
             [
              0.4444444444444444,
              "#bd3786"
             ],
             [
              0.5555555555555556,
              "#d8576b"
             ],
             [
              0.6666666666666666,
              "#ed7953"
             ],
             [
              0.7777777777777778,
              "#fb9f3a"
             ],
             [
              0.8888888888888888,
              "#fdca26"
             ],
             [
              1,
              "#f0f921"
             ]
            ],
            "type": "histogram2d"
           }
          ],
          "histogram2dcontour": [
           {
            "colorbar": {
             "outlinewidth": 0,
             "ticks": ""
            },
            "colorscale": [
             [
              0,
              "#0d0887"
             ],
             [
              0.1111111111111111,
              "#46039f"
             ],
             [
              0.2222222222222222,
              "#7201a8"
             ],
             [
              0.3333333333333333,
              "#9c179e"
             ],
             [
              0.4444444444444444,
              "#bd3786"
             ],
             [
              0.5555555555555556,
              "#d8576b"
             ],
             [
              0.6666666666666666,
              "#ed7953"
             ],
             [
              0.7777777777777778,
              "#fb9f3a"
             ],
             [
              0.8888888888888888,
              "#fdca26"
             ],
             [
              1,
              "#f0f921"
             ]
            ],
            "type": "histogram2dcontour"
           }
          ],
          "mesh3d": [
           {
            "colorbar": {
             "outlinewidth": 0,
             "ticks": ""
            },
            "type": "mesh3d"
           }
          ],
          "parcoords": [
           {
            "line": {
             "colorbar": {
              "outlinewidth": 0,
              "ticks": ""
             }
            },
            "type": "parcoords"
           }
          ],
          "pie": [
           {
            "automargin": true,
            "type": "pie"
           }
          ],
          "scatter": [
           {
            "fillpattern": {
             "fillmode": "overlay",
             "size": 10,
             "solidity": 0.2
            },
            "type": "scatter"
           }
          ],
          "scatter3d": [
           {
            "line": {
             "colorbar": {
              "outlinewidth": 0,
              "ticks": ""
             }
            },
            "marker": {
             "colorbar": {
              "outlinewidth": 0,
              "ticks": ""
             }
            },
            "type": "scatter3d"
           }
          ],
          "scattercarpet": [
           {
            "marker": {
             "colorbar": {
              "outlinewidth": 0,
              "ticks": ""
             }
            },
            "type": "scattercarpet"
           }
          ],
          "scattergeo": [
           {
            "marker": {
             "colorbar": {
              "outlinewidth": 0,
              "ticks": ""
             }
            },
            "type": "scattergeo"
           }
          ],
          "scattergl": [
           {
            "marker": {
             "colorbar": {
              "outlinewidth": 0,
              "ticks": ""
             }
            },
            "type": "scattergl"
           }
          ],
          "scattermapbox": [
           {
            "marker": {
             "colorbar": {
              "outlinewidth": 0,
              "ticks": ""
             }
            },
            "type": "scattermapbox"
           }
          ],
          "scatterpolar": [
           {
            "marker": {
             "colorbar": {
              "outlinewidth": 0,
              "ticks": ""
             }
            },
            "type": "scatterpolar"
           }
          ],
          "scatterpolargl": [
           {
            "marker": {
             "colorbar": {
              "outlinewidth": 0,
              "ticks": ""
             }
            },
            "type": "scatterpolargl"
           }
          ],
          "scatterternary": [
           {
            "marker": {
             "colorbar": {
              "outlinewidth": 0,
              "ticks": ""
             }
            },
            "type": "scatterternary"
           }
          ],
          "surface": [
           {
            "colorbar": {
             "outlinewidth": 0,
             "ticks": ""
            },
            "colorscale": [
             [
              0,
              "#0d0887"
             ],
             [
              0.1111111111111111,
              "#46039f"
             ],
             [
              0.2222222222222222,
              "#7201a8"
             ],
             [
              0.3333333333333333,
              "#9c179e"
             ],
             [
              0.4444444444444444,
              "#bd3786"
             ],
             [
              0.5555555555555556,
              "#d8576b"
             ],
             [
              0.6666666666666666,
              "#ed7953"
             ],
             [
              0.7777777777777778,
              "#fb9f3a"
             ],
             [
              0.8888888888888888,
              "#fdca26"
             ],
             [
              1,
              "#f0f921"
             ]
            ],
            "type": "surface"
           }
          ],
          "table": [
           {
            "cells": {
             "fill": {
              "color": "#EBF0F8"
             },
             "line": {
              "color": "white"
             }
            },
            "header": {
             "fill": {
              "color": "#C8D4E3"
             },
             "line": {
              "color": "white"
             }
            },
            "type": "table"
           }
          ]
         },
         "layout": {
          "annotationdefaults": {
           "arrowcolor": "#2a3f5f",
           "arrowhead": 0,
           "arrowwidth": 1
          },
          "autotypenumbers": "strict",
          "coloraxis": {
           "colorbar": {
            "outlinewidth": 0,
            "ticks": ""
           }
          },
          "colorscale": {
           "diverging": [
            [
             0,
             "#8e0152"
            ],
            [
             0.1,
             "#c51b7d"
            ],
            [
             0.2,
             "#de77ae"
            ],
            [
             0.3,
             "#f1b6da"
            ],
            [
             0.4,
             "#fde0ef"
            ],
            [
             0.5,
             "#f7f7f7"
            ],
            [
             0.6,
             "#e6f5d0"
            ],
            [
             0.7,
             "#b8e186"
            ],
            [
             0.8,
             "#7fbc41"
            ],
            [
             0.9,
             "#4d9221"
            ],
            [
             1,
             "#276419"
            ]
           ],
           "sequential": [
            [
             0,
             "#0d0887"
            ],
            [
             0.1111111111111111,
             "#46039f"
            ],
            [
             0.2222222222222222,
             "#7201a8"
            ],
            [
             0.3333333333333333,
             "#9c179e"
            ],
            [
             0.4444444444444444,
             "#bd3786"
            ],
            [
             0.5555555555555556,
             "#d8576b"
            ],
            [
             0.6666666666666666,
             "#ed7953"
            ],
            [
             0.7777777777777778,
             "#fb9f3a"
            ],
            [
             0.8888888888888888,
             "#fdca26"
            ],
            [
             1,
             "#f0f921"
            ]
           ],
           "sequentialminus": [
            [
             0,
             "#0d0887"
            ],
            [
             0.1111111111111111,
             "#46039f"
            ],
            [
             0.2222222222222222,
             "#7201a8"
            ],
            [
             0.3333333333333333,
             "#9c179e"
            ],
            [
             0.4444444444444444,
             "#bd3786"
            ],
            [
             0.5555555555555556,
             "#d8576b"
            ],
            [
             0.6666666666666666,
             "#ed7953"
            ],
            [
             0.7777777777777778,
             "#fb9f3a"
            ],
            [
             0.8888888888888888,
             "#fdca26"
            ],
            [
             1,
             "#f0f921"
            ]
           ]
          },
          "colorway": [
           "#636efa",
           "#EF553B",
           "#00cc96",
           "#ab63fa",
           "#FFA15A",
           "#19d3f3",
           "#FF6692",
           "#B6E880",
           "#FF97FF",
           "#FECB52"
          ],
          "font": {
           "color": "#2a3f5f"
          },
          "geo": {
           "bgcolor": "white",
           "lakecolor": "white",
           "landcolor": "#E5ECF6",
           "showlakes": true,
           "showland": true,
           "subunitcolor": "white"
          },
          "hoverlabel": {
           "align": "left"
          },
          "hovermode": "closest",
          "mapbox": {
           "style": "light"
          },
          "paper_bgcolor": "white",
          "plot_bgcolor": "#E5ECF6",
          "polar": {
           "angularaxis": {
            "gridcolor": "white",
            "linecolor": "white",
            "ticks": ""
           },
           "bgcolor": "#E5ECF6",
           "radialaxis": {
            "gridcolor": "white",
            "linecolor": "white",
            "ticks": ""
           }
          },
          "scene": {
           "xaxis": {
            "backgroundcolor": "#E5ECF6",
            "gridcolor": "white",
            "gridwidth": 2,
            "linecolor": "white",
            "showbackground": true,
            "ticks": "",
            "zerolinecolor": "white"
           },
           "yaxis": {
            "backgroundcolor": "#E5ECF6",
            "gridcolor": "white",
            "gridwidth": 2,
            "linecolor": "white",
            "showbackground": true,
            "ticks": "",
            "zerolinecolor": "white"
           },
           "zaxis": {
            "backgroundcolor": "#E5ECF6",
            "gridcolor": "white",
            "gridwidth": 2,
            "linecolor": "white",
            "showbackground": true,
            "ticks": "",
            "zerolinecolor": "white"
           }
          },
          "shapedefaults": {
           "line": {
            "color": "#2a3f5f"
           }
          },
          "ternary": {
           "aaxis": {
            "gridcolor": "white",
            "linecolor": "white",
            "ticks": ""
           },
           "baxis": {
            "gridcolor": "white",
            "linecolor": "white",
            "ticks": ""
           },
           "bgcolor": "#E5ECF6",
           "caxis": {
            "gridcolor": "white",
            "linecolor": "white",
            "ticks": ""
           }
          },
          "title": {
           "x": 0.05
          },
          "xaxis": {
           "automargin": true,
           "gridcolor": "white",
           "linecolor": "white",
           "ticks": "",
           "title": {
            "standoff": 15
           },
           "zerolinecolor": "white",
           "zerolinewidth": 2
          },
          "yaxis": {
           "automargin": true,
           "gridcolor": "white",
           "linecolor": "white",
           "ticks": "",
           "title": {
            "standoff": 15
           },
           "zerolinecolor": "white",
           "zerolinewidth": 2
          }
         }
        },
        "title": {
         "text": "Models Comparison"
        },
        "xaxis": {
         "anchor": "y",
         "domain": [
          0,
          1
         ],
         "title": {
          "text": "Score"
         }
        },
        "yaxis": {
         "anchor": "x",
         "domain": [
          0,
          1
         ],
         "title": {
          "text": "Model"
         }
        }
       }
      }
     },
     "metadata": {},
     "output_type": "display_data"
    }
   ],
   "source": [
    "models = pd.DataFrame({\n",
    "    'Model' : [ 'Random Forest Classifier', 'SVM Classifier', 'Naive Bayes Classifier','KNN Classifier', 'XG_Boost Classifier', 'Decision Tree Classifier', 'Ada_Boost Classifier', 'Bayesian Neural Network'],\n",
    "    'Score' : [rand_forest_acc_OOD, svm_acc_OOD, gnb_acc_OOD, knn_acc_OOD, xgb_acc_OOD, dtc_acc_OOD, ada_acc_OOD, bnn_acc_OOD]\n",
    "})\n",
    "\n",
    "sorted_models = models.sort_values(by = 'Score', ascending = True)\n",
    "\n",
    "fig = px.bar(data_frame = sorted_models, x = 'Score', y = 'Model', title=  'Models Comparison')\n",
    "\n",
    "fig.show()"
   ]
  },
  {
   "cell_type": "code",
   "execution_count": null,
   "metadata": {},
   "outputs": [
    {
     "name": "stdout",
     "output_type": "stream",
     "text": [
      "Random Forest Classifier Difference: -0.006586289958869451\n",
      "SVM Classifier Difference: 0.04065269184379405\n",
      "Naive Bayes Classifier Difference: -0.04806789691108754\n",
      "KNN Classifier Difference: -0.2082128756530348\n",
      "XG_Boost Classifier Difference: 0.017175308098012154\n",
      "Decision Tree Classifier Difference: -0.0027243699656310794\n",
      "Ada_Boost Classifier Difference: -0.010866651009766137\n",
      "Bayesin Neural Network Difference: 0.12776290603157842\n"
     ]
    }
   ],
   "source": [
    "models = [ 'Random Forest Classifier', 'SVM Classifier', 'Naive Bayes Classifier','KNN Classifier', 'XG_Boost Classifier', 'Decision Tree Classifier', 'Ada_Boost Classifier', 'Bayesin Neural Network']\n",
    "ID_accuracies = [rand_forest_acc, svm_acc, gnb_acc, knn_acc, xgb_acc, dtc_acc, ada_acc, bnn_acc]\n",
    "OOD_accuracies = [rand_forest_acc_OOD, svm_acc_OOD, gnb_acc_OOD, knn_acc_OOD, xgb_acc_OOD, dtc_acc_OOD, ada_acc_OOD, bnn_acc_OOD]\n",
    "\n",
    "for i in range(len(models)):\n",
    "    difference = ID_accuracies[i] - OOD_accuracies[i]\n",
    "    print(f\"{models[i]} Difference: {difference}\")"
   ]
  }
 ],
 "metadata": {
  "kernelspec": {
   "display_name": "DS340W",
   "language": "python",
   "name": "python3"
  },
  "language_info": {
   "codemirror_mode": {
    "name": "ipython",
    "version": 3
   },
   "file_extension": ".py",
   "mimetype": "text/x-python",
   "name": "python",
   "nbconvert_exporter": "python",
   "pygments_lexer": "ipython3",
   "version": "3.10.15"
  }
 },
 "nbformat": 4,
 "nbformat_minor": 2
}
